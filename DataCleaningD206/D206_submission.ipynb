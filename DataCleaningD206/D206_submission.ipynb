{
 "cells": [
  {
   "cell_type": "markdown",
   "id": "13d7ec3d",
   "metadata": {},
   "source": [
    "# Performance Assessment D206 Data Cleaning"
   ]
  },
  {
   "cell_type": "markdown",
   "id": "ce127b62",
   "metadata": {},
   "source": [
    "Ali Zaheer\n",
    "azaheer@wgu.edu"
   ]
  },
  {
   "cell_type": "markdown",
   "id": "64f71d99",
   "metadata": {},
   "source": [
    "### Part I: Research Question\n",
    "\n",
    "###### A.  Describe one question or decision that you will address using the data set you chose. The summarized question or decision must be relevant to a realistic organizational need or situation.\n",
    "\n",
    "Which 'contract' type has high 'churn' and what type of correlation exists in respect to the customer's 'area'?"
   ]
  },
  {
   "cell_type": "markdown",
   "id": "67438289",
   "metadata": {},
   "source": [
    "###### B.  Describe the variables in the data set and indicate the specific type of data being described. Use examples from the data set that support your claims."
   ]
  },
  {
   "cell_type": "code",
   "execution_count": 1,
   "id": "86be98b0",
   "metadata": {},
   "outputs": [],
   "source": [
    "import pandas as pd"
   ]
  },
  {
   "cell_type": "code",
   "execution_count": 2,
   "id": "e4c5eb52",
   "metadata": {},
   "outputs": [],
   "source": [
    "# Load data set\n",
    "df = pd.read_csv('dataSet/churn_raw_data.csv')"
   ]
  },
  {
   "cell_type": "code",
   "execution_count": 3,
   "id": "946d3ecf",
   "metadata": {},
   "outputs": [
    {
     "data": {
      "text/html": [
       "<div>\n",
       "<style scoped>\n",
       "    .dataframe tbody tr th:only-of-type {\n",
       "        vertical-align: middle;\n",
       "    }\n",
       "\n",
       "    .dataframe tbody tr th {\n",
       "        vertical-align: top;\n",
       "    }\n",
       "\n",
       "    .dataframe thead th {\n",
       "        text-align: right;\n",
       "    }\n",
       "</style>\n",
       "<table border=\"1\" class=\"dataframe\">\n",
       "  <thead>\n",
       "    <tr style=\"text-align: right;\">\n",
       "      <th></th>\n",
       "      <th>Unnamed: 0</th>\n",
       "      <th>CaseOrder</th>\n",
       "      <th>Customer_id</th>\n",
       "      <th>Interaction</th>\n",
       "      <th>City</th>\n",
       "      <th>State</th>\n",
       "      <th>County</th>\n",
       "      <th>Zip</th>\n",
       "      <th>Lat</th>\n",
       "      <th>Lng</th>\n",
       "      <th>...</th>\n",
       "      <th>MonthlyCharge</th>\n",
       "      <th>Bandwidth_GB_Year</th>\n",
       "      <th>item1</th>\n",
       "      <th>item2</th>\n",
       "      <th>item3</th>\n",
       "      <th>item4</th>\n",
       "      <th>item5</th>\n",
       "      <th>item6</th>\n",
       "      <th>item7</th>\n",
       "      <th>item8</th>\n",
       "    </tr>\n",
       "  </thead>\n",
       "  <tbody>\n",
       "    <tr>\n",
       "      <th>0</th>\n",
       "      <td>1</td>\n",
       "      <td>1</td>\n",
       "      <td>K409198</td>\n",
       "      <td>aa90260b-4141-4a24-8e36-b04ce1f4f77b</td>\n",
       "      <td>Point Baker</td>\n",
       "      <td>AK</td>\n",
       "      <td>Prince of Wales-Hyder</td>\n",
       "      <td>99927</td>\n",
       "      <td>56.25100</td>\n",
       "      <td>-133.37571</td>\n",
       "      <td>...</td>\n",
       "      <td>171.449762</td>\n",
       "      <td>904.536110</td>\n",
       "      <td>5</td>\n",
       "      <td>5</td>\n",
       "      <td>5</td>\n",
       "      <td>3</td>\n",
       "      <td>4</td>\n",
       "      <td>4</td>\n",
       "      <td>3</td>\n",
       "      <td>4</td>\n",
       "    </tr>\n",
       "    <tr>\n",
       "      <th>1</th>\n",
       "      <td>2</td>\n",
       "      <td>2</td>\n",
       "      <td>S120509</td>\n",
       "      <td>fb76459f-c047-4a9d-8af9-e0f7d4ac2524</td>\n",
       "      <td>West Branch</td>\n",
       "      <td>MI</td>\n",
       "      <td>Ogemaw</td>\n",
       "      <td>48661</td>\n",
       "      <td>44.32893</td>\n",
       "      <td>-84.24080</td>\n",
       "      <td>...</td>\n",
       "      <td>242.948015</td>\n",
       "      <td>800.982766</td>\n",
       "      <td>3</td>\n",
       "      <td>4</td>\n",
       "      <td>3</td>\n",
       "      <td>3</td>\n",
       "      <td>4</td>\n",
       "      <td>3</td>\n",
       "      <td>4</td>\n",
       "      <td>4</td>\n",
       "    </tr>\n",
       "    <tr>\n",
       "      <th>2</th>\n",
       "      <td>3</td>\n",
       "      <td>3</td>\n",
       "      <td>K191035</td>\n",
       "      <td>344d114c-3736-4be5-98f7-c72c281e2d35</td>\n",
       "      <td>Yamhill</td>\n",
       "      <td>OR</td>\n",
       "      <td>Yamhill</td>\n",
       "      <td>97148</td>\n",
       "      <td>45.35589</td>\n",
       "      <td>-123.24657</td>\n",
       "      <td>...</td>\n",
       "      <td>159.440398</td>\n",
       "      <td>2054.706961</td>\n",
       "      <td>4</td>\n",
       "      <td>4</td>\n",
       "      <td>2</td>\n",
       "      <td>4</td>\n",
       "      <td>4</td>\n",
       "      <td>3</td>\n",
       "      <td>3</td>\n",
       "      <td>3</td>\n",
       "    </tr>\n",
       "    <tr>\n",
       "      <th>3</th>\n",
       "      <td>4</td>\n",
       "      <td>4</td>\n",
       "      <td>D90850</td>\n",
       "      <td>abfa2b40-2d43-4994-b15a-989b8c79e311</td>\n",
       "      <td>Del Mar</td>\n",
       "      <td>CA</td>\n",
       "      <td>San Diego</td>\n",
       "      <td>92014</td>\n",
       "      <td>32.96687</td>\n",
       "      <td>-117.24798</td>\n",
       "      <td>...</td>\n",
       "      <td>120.249493</td>\n",
       "      <td>2164.579412</td>\n",
       "      <td>4</td>\n",
       "      <td>4</td>\n",
       "      <td>4</td>\n",
       "      <td>2</td>\n",
       "      <td>5</td>\n",
       "      <td>4</td>\n",
       "      <td>3</td>\n",
       "      <td>3</td>\n",
       "    </tr>\n",
       "    <tr>\n",
       "      <th>4</th>\n",
       "      <td>5</td>\n",
       "      <td>5</td>\n",
       "      <td>K662701</td>\n",
       "      <td>68a861fd-0d20-4e51-a587-8a90407ee574</td>\n",
       "      <td>Needville</td>\n",
       "      <td>TX</td>\n",
       "      <td>Fort Bend</td>\n",
       "      <td>77461</td>\n",
       "      <td>29.38012</td>\n",
       "      <td>-95.80673</td>\n",
       "      <td>...</td>\n",
       "      <td>150.761216</td>\n",
       "      <td>271.493436</td>\n",
       "      <td>4</td>\n",
       "      <td>4</td>\n",
       "      <td>4</td>\n",
       "      <td>3</td>\n",
       "      <td>4</td>\n",
       "      <td>4</td>\n",
       "      <td>4</td>\n",
       "      <td>5</td>\n",
       "    </tr>\n",
       "  </tbody>\n",
       "</table>\n",
       "<p>5 rows × 52 columns</p>\n",
       "</div>"
      ],
      "text/plain": [
       "   Unnamed: 0  CaseOrder Customer_id                           Interaction  \\\n",
       "0           1          1     K409198  aa90260b-4141-4a24-8e36-b04ce1f4f77b   \n",
       "1           2          2     S120509  fb76459f-c047-4a9d-8af9-e0f7d4ac2524   \n",
       "2           3          3     K191035  344d114c-3736-4be5-98f7-c72c281e2d35   \n",
       "3           4          4      D90850  abfa2b40-2d43-4994-b15a-989b8c79e311   \n",
       "4           5          5     K662701  68a861fd-0d20-4e51-a587-8a90407ee574   \n",
       "\n",
       "          City State                 County    Zip       Lat        Lng  ...  \\\n",
       "0  Point Baker    AK  Prince of Wales-Hyder  99927  56.25100 -133.37571  ...   \n",
       "1  West Branch    MI                 Ogemaw  48661  44.32893  -84.24080  ...   \n",
       "2      Yamhill    OR                Yamhill  97148  45.35589 -123.24657  ...   \n",
       "3      Del Mar    CA              San Diego  92014  32.96687 -117.24798  ...   \n",
       "4    Needville    TX              Fort Bend  77461  29.38012  -95.80673  ...   \n",
       "\n",
       "   MonthlyCharge Bandwidth_GB_Year item1 item2  item3  item4 item5 item6  \\\n",
       "0     171.449762        904.536110     5     5      5      3     4     4   \n",
       "1     242.948015        800.982766     3     4      3      3     4     3   \n",
       "2     159.440398       2054.706961     4     4      2      4     4     3   \n",
       "3     120.249493       2164.579412     4     4      4      2     5     4   \n",
       "4     150.761216        271.493436     4     4      4      3     4     4   \n",
       "\n",
       "   item7 item8  \n",
       "0      3     4  \n",
       "1      4     4  \n",
       "2      3     3  \n",
       "3      3     3  \n",
       "4      4     5  \n",
       "\n",
       "[5 rows x 52 columns]"
      ]
     },
     "execution_count": 3,
     "metadata": {},
     "output_type": "execute_result"
    }
   ],
   "source": [
    "# display data set\n",
    "df.head()"
   ]
  },
  {
   "cell_type": "code",
   "execution_count": 4,
   "id": "a6801aaf",
   "metadata": {},
   "outputs": [
    {
     "data": {
      "text/plain": [
       "(10000, 52)"
      ]
     },
     "execution_count": 4,
     "metadata": {},
     "output_type": "execute_result"
    }
   ],
   "source": [
    "# Number of records in the data set\n",
    "df.shape"
   ]
  },
  {
   "cell_type": "code",
   "execution_count": 5,
   "id": "27f2e024",
   "metadata": {},
   "outputs": [
    {
     "data": {
      "text/plain": [
       "Unnamed: 0                int64\n",
       "CaseOrder                 int64\n",
       "Customer_id              object\n",
       "Interaction              object\n",
       "City                     object\n",
       "State                    object\n",
       "County                   object\n",
       "Zip                       int64\n",
       "Lat                     float64\n",
       "Lng                     float64\n",
       "Population                int64\n",
       "Area                     object\n",
       "Timezone                 object\n",
       "Job                      object\n",
       "Children                float64\n",
       "Age                     float64\n",
       "Education                object\n",
       "Employment               object\n",
       "Income                  float64\n",
       "Marital                  object\n",
       "Gender                   object\n",
       "Churn                    object\n",
       "Outage_sec_perweek      float64\n",
       "Email                     int64\n",
       "Contacts                  int64\n",
       "Yearly_equip_failure      int64\n",
       "Techie                   object\n",
       "Contract                 object\n",
       "Port_modem               object\n",
       "Tablet                   object\n",
       "InternetService          object\n",
       "Phone                    object\n",
       "Multiple                 object\n",
       "OnlineSecurity           object\n",
       "OnlineBackup             object\n",
       "DeviceProtection         object\n",
       "TechSupport              object\n",
       "StreamingTV              object\n",
       "StreamingMovies          object\n",
       "PaperlessBilling         object\n",
       "PaymentMethod            object\n",
       "Tenure                  float64\n",
       "MonthlyCharge           float64\n",
       "Bandwidth_GB_Year       float64\n",
       "item1                     int64\n",
       "item2                     int64\n",
       "item3                     int64\n",
       "item4                     int64\n",
       "item5                     int64\n",
       "item6                     int64\n",
       "item7                     int64\n",
       "item8                     int64\n",
       "dtype: object"
      ]
     },
     "execution_count": 5,
     "metadata": {},
     "output_type": "execute_result"
    }
   ],
   "source": [
    "# Column names and their data types\n",
    "df.dtypes"
   ]
  },
  {
   "cell_type": "markdown",
   "id": "ee16032e",
   "metadata": {},
   "source": [
    "### Part II: Data-Cleaning Plan\n",
    "\n",
    "###### C.  Explain the plan for cleaning the data by doing the following:\n",
    "1.  Propose a plan that includes the relevant techniques and specific steps needed to identify anomalies in the data set.\n",
    "    \n",
    "    1. Use Pandas to import the CSV file in the data frame.\n",
    "    2. Examine and ensure data type consistency in the columns.\n",
    "    3. Validate that each column has the same data type.\n",
    "    4. Identify and resolve spelling mistakes in column headers or row level data.\n",
    "    5. Identify and remove outliers\n",
    "        - Outliers are identified using Z-score and boxplot graphs.\n",
    "        - Validate if the outliers are to be removed or kept\n",
    "    6. Identify, Standardize and replaced missing values using central tendency (Mean, Mode or Median)\n",
    "    \n",
    "    (Larose, 2019, p.29-43)"
   ]
  },
  {
   "cell_type": "markdown",
   "id": "35a8a91f",
   "metadata": {},
   "source": [
    "###### 2.  Justify your approach for assessing the quality of the data, include:\n",
    "###### characteristics of the data being assessed:\n",
    "\n",
    "There are 10,000 customer related records with 52 related variables in this data set. The 'Churn' column describes and defines whether the customer has cancelled their service(s) in last month.\n",
    "\n",
    "Other variables that are related to each customer are categorically captured below:\n",
    "\n",
    "- Services that each customer has signed up for (phone, multiple lines, internet, online security, online backup, device protection, technical support, and streaming TV and movies)\n",
    "- Customer account related information (how long they’ve been a customer, contracts, payment methods, paperless billing, monthly charges, GB usage over a year, etc.)\n",
    "- Customer demographics (gender, age, job, income, etc.)\n",
    "\n",
    "##### Approach used to assess the quality:\n",
    "- Validate each column to ensure its data is consistent with its data type.\n",
    "- Identify and resolve spelling mistakes in column headers.\n",
    "- Identify and remove outliers.\n",
    "    - Outliers are identified using Z-score and/or boxplot graphs.\n",
    "- Identify and replace missing values using central tendency (Median)"
   ]
  },
  {
   "cell_type": "markdown",
   "id": "918f8bb7",
   "metadata": {},
   "source": [
    "###### 3.  Justify your selected programming language and any libraries and packages that will support the data-cleaning process.\n",
    "    A.I will utilize Python due to my previous interaction with it and its Pandas, matplotlib and Scipy modules. Additionally, I will be using Jupyter notebook as the IDE because it provides a user-friendly experience.\n",
    "    Pandas is an excellent package for working with data set as it makes it easy to load and manipulate columns and/or rows to replace null values. \n",
    "    Matplotlib plot is an easy way to create graphs for identifying outliers using histograms and/or boxplot."
   ]
  },
  {
   "cell_type": "markdown",
   "id": "485893d6",
   "metadata": {},
   "source": [
    "##### 4.  Provide the code you will use to identify the anomalies in the data."
   ]
  },
  {
   "cell_type": "code",
   "execution_count": 6,
   "id": "483f3d33",
   "metadata": {},
   "outputs": [],
   "source": [
    "import pandas as pd\n",
    "import numpy as np\n",
    "from scipy import stats\n",
    "%matplotlib inline\n",
    "from sklearn.svm import OneClassSVM\n",
    "from sklearn.preprocessing import scale\n",
    "from sklearn.decomposition import PCA\n",
    "import matplotlib.pyplot as plt\n",
    "import seaborn as sns\n",
    "%matplotlib inline\n",
    "#from icecream import ic"
   ]
  },
  {
   "cell_type": "code",
   "execution_count": 7,
   "id": "615409a9",
   "metadata": {},
   "outputs": [],
   "source": [
    "# Load data set\n",
    "df = pd.read_csv('dataSet/churn_raw_data.csv', dtype={'CaseOrder':np.int64})"
   ]
  },
  {
   "cell_type": "code",
   "execution_count": 8,
   "id": "310c1ffd",
   "metadata": {
    "scrolled": true
   },
   "outputs": [
    {
     "data": {
      "text/html": [
       "<div>\n",
       "<style scoped>\n",
       "    .dataframe tbody tr th:only-of-type {\n",
       "        vertical-align: middle;\n",
       "    }\n",
       "\n",
       "    .dataframe tbody tr th {\n",
       "        vertical-align: top;\n",
       "    }\n",
       "\n",
       "    .dataframe thead th {\n",
       "        text-align: right;\n",
       "    }\n",
       "</style>\n",
       "<table border=\"1\" class=\"dataframe\">\n",
       "  <thead>\n",
       "    <tr style=\"text-align: right;\">\n",
       "      <th></th>\n",
       "      <th>Unnamed: 0</th>\n",
       "      <th>CaseOrder</th>\n",
       "      <th>Customer_id</th>\n",
       "      <th>Interaction</th>\n",
       "      <th>City</th>\n",
       "      <th>State</th>\n",
       "      <th>County</th>\n",
       "      <th>Zip</th>\n",
       "      <th>Lat</th>\n",
       "      <th>Lng</th>\n",
       "      <th>Population</th>\n",
       "      <th>Area</th>\n",
       "      <th>Timezone</th>\n",
       "      <th>Job</th>\n",
       "      <th>Children</th>\n",
       "      <th>Age</th>\n",
       "      <th>Education</th>\n",
       "      <th>Employment</th>\n",
       "      <th>Income</th>\n",
       "      <th>Marital</th>\n",
       "      <th>Gender</th>\n",
       "      <th>Churn</th>\n",
       "      <th>Outage_sec_perweek</th>\n",
       "      <th>Email</th>\n",
       "      <th>Contacts</th>\n",
       "      <th>Yearly_equip_failure</th>\n",
       "      <th>Techie</th>\n",
       "      <th>Contract</th>\n",
       "      <th>Port_modem</th>\n",
       "      <th>Tablet</th>\n",
       "      <th>InternetService</th>\n",
       "      <th>Phone</th>\n",
       "      <th>Multiple</th>\n",
       "      <th>OnlineSecurity</th>\n",
       "      <th>OnlineBackup</th>\n",
       "      <th>DeviceProtection</th>\n",
       "      <th>TechSupport</th>\n",
       "      <th>StreamingTV</th>\n",
       "      <th>StreamingMovies</th>\n",
       "      <th>PaperlessBilling</th>\n",
       "      <th>PaymentMethod</th>\n",
       "      <th>Tenure</th>\n",
       "      <th>MonthlyCharge</th>\n",
       "      <th>Bandwidth_GB_Year</th>\n",
       "      <th>item1</th>\n",
       "      <th>item2</th>\n",
       "      <th>item3</th>\n",
       "      <th>item4</th>\n",
       "      <th>item5</th>\n",
       "      <th>item6</th>\n",
       "      <th>item7</th>\n",
       "      <th>item8</th>\n",
       "    </tr>\n",
       "  </thead>\n",
       "  <tbody>\n",
       "    <tr>\n",
       "      <th>0</th>\n",
       "      <td>1</td>\n",
       "      <td>1</td>\n",
       "      <td>K409198</td>\n",
       "      <td>aa90260b-4141-4a24-8e36-b04ce1f4f77b</td>\n",
       "      <td>Point Baker</td>\n",
       "      <td>AK</td>\n",
       "      <td>Prince of Wales-Hyder</td>\n",
       "      <td>99927</td>\n",
       "      <td>56.25100</td>\n",
       "      <td>-133.37571</td>\n",
       "      <td>38</td>\n",
       "      <td>Urban</td>\n",
       "      <td>America/Sitka</td>\n",
       "      <td>Environmental health practitioner</td>\n",
       "      <td>NaN</td>\n",
       "      <td>68.0</td>\n",
       "      <td>Master's Degree</td>\n",
       "      <td>Part Time</td>\n",
       "      <td>28561.99</td>\n",
       "      <td>Widowed</td>\n",
       "      <td>Male</td>\n",
       "      <td>No</td>\n",
       "      <td>6.972566</td>\n",
       "      <td>10</td>\n",
       "      <td>0</td>\n",
       "      <td>1</td>\n",
       "      <td>No</td>\n",
       "      <td>One year</td>\n",
       "      <td>Yes</td>\n",
       "      <td>Yes</td>\n",
       "      <td>Fiber Optic</td>\n",
       "      <td>Yes</td>\n",
       "      <td>No</td>\n",
       "      <td>Yes</td>\n",
       "      <td>Yes</td>\n",
       "      <td>No</td>\n",
       "      <td>No</td>\n",
       "      <td>No</td>\n",
       "      <td>Yes</td>\n",
       "      <td>Yes</td>\n",
       "      <td>Credit Card (automatic)</td>\n",
       "      <td>6.795513</td>\n",
       "      <td>171.449762</td>\n",
       "      <td>904.536110</td>\n",
       "      <td>5</td>\n",
       "      <td>5</td>\n",
       "      <td>5</td>\n",
       "      <td>3</td>\n",
       "      <td>4</td>\n",
       "      <td>4</td>\n",
       "      <td>3</td>\n",
       "      <td>4</td>\n",
       "    </tr>\n",
       "    <tr>\n",
       "      <th>1</th>\n",
       "      <td>2</td>\n",
       "      <td>2</td>\n",
       "      <td>S120509</td>\n",
       "      <td>fb76459f-c047-4a9d-8af9-e0f7d4ac2524</td>\n",
       "      <td>West Branch</td>\n",
       "      <td>MI</td>\n",
       "      <td>Ogemaw</td>\n",
       "      <td>48661</td>\n",
       "      <td>44.32893</td>\n",
       "      <td>-84.24080</td>\n",
       "      <td>10446</td>\n",
       "      <td>Urban</td>\n",
       "      <td>America/Detroit</td>\n",
       "      <td>Programmer, multimedia</td>\n",
       "      <td>1.0</td>\n",
       "      <td>27.0</td>\n",
       "      <td>Regular High School Diploma</td>\n",
       "      <td>Retired</td>\n",
       "      <td>21704.77</td>\n",
       "      <td>Married</td>\n",
       "      <td>Female</td>\n",
       "      <td>Yes</td>\n",
       "      <td>12.014541</td>\n",
       "      <td>12</td>\n",
       "      <td>0</td>\n",
       "      <td>1</td>\n",
       "      <td>Yes</td>\n",
       "      <td>Month-to-month</td>\n",
       "      <td>No</td>\n",
       "      <td>Yes</td>\n",
       "      <td>Fiber Optic</td>\n",
       "      <td>Yes</td>\n",
       "      <td>Yes</td>\n",
       "      <td>Yes</td>\n",
       "      <td>No</td>\n",
       "      <td>No</td>\n",
       "      <td>No</td>\n",
       "      <td>Yes</td>\n",
       "      <td>Yes</td>\n",
       "      <td>Yes</td>\n",
       "      <td>Bank Transfer(automatic)</td>\n",
       "      <td>1.156681</td>\n",
       "      <td>242.948015</td>\n",
       "      <td>800.982766</td>\n",
       "      <td>3</td>\n",
       "      <td>4</td>\n",
       "      <td>3</td>\n",
       "      <td>3</td>\n",
       "      <td>4</td>\n",
       "      <td>3</td>\n",
       "      <td>4</td>\n",
       "      <td>4</td>\n",
       "    </tr>\n",
       "    <tr>\n",
       "      <th>2</th>\n",
       "      <td>3</td>\n",
       "      <td>3</td>\n",
       "      <td>K191035</td>\n",
       "      <td>344d114c-3736-4be5-98f7-c72c281e2d35</td>\n",
       "      <td>Yamhill</td>\n",
       "      <td>OR</td>\n",
       "      <td>Yamhill</td>\n",
       "      <td>97148</td>\n",
       "      <td>45.35589</td>\n",
       "      <td>-123.24657</td>\n",
       "      <td>3735</td>\n",
       "      <td>Urban</td>\n",
       "      <td>America/Los_Angeles</td>\n",
       "      <td>Chief Financial Officer</td>\n",
       "      <td>4.0</td>\n",
       "      <td>50.0</td>\n",
       "      <td>Regular High School Diploma</td>\n",
       "      <td>Student</td>\n",
       "      <td>NaN</td>\n",
       "      <td>Widowed</td>\n",
       "      <td>Female</td>\n",
       "      <td>No</td>\n",
       "      <td>10.245616</td>\n",
       "      <td>9</td>\n",
       "      <td>0</td>\n",
       "      <td>1</td>\n",
       "      <td>Yes</td>\n",
       "      <td>Two Year</td>\n",
       "      <td>Yes</td>\n",
       "      <td>No</td>\n",
       "      <td>DSL</td>\n",
       "      <td>Yes</td>\n",
       "      <td>Yes</td>\n",
       "      <td>No</td>\n",
       "      <td>No</td>\n",
       "      <td>No</td>\n",
       "      <td>No</td>\n",
       "      <td>No</td>\n",
       "      <td>Yes</td>\n",
       "      <td>Yes</td>\n",
       "      <td>Credit Card (automatic)</td>\n",
       "      <td>15.754144</td>\n",
       "      <td>159.440398</td>\n",
       "      <td>2054.706961</td>\n",
       "      <td>4</td>\n",
       "      <td>4</td>\n",
       "      <td>2</td>\n",
       "      <td>4</td>\n",
       "      <td>4</td>\n",
       "      <td>3</td>\n",
       "      <td>3</td>\n",
       "      <td>3</td>\n",
       "    </tr>\n",
       "    <tr>\n",
       "      <th>3</th>\n",
       "      <td>4</td>\n",
       "      <td>4</td>\n",
       "      <td>D90850</td>\n",
       "      <td>abfa2b40-2d43-4994-b15a-989b8c79e311</td>\n",
       "      <td>Del Mar</td>\n",
       "      <td>CA</td>\n",
       "      <td>San Diego</td>\n",
       "      <td>92014</td>\n",
       "      <td>32.96687</td>\n",
       "      <td>-117.24798</td>\n",
       "      <td>13863</td>\n",
       "      <td>Suburban</td>\n",
       "      <td>America/Los_Angeles</td>\n",
       "      <td>Solicitor</td>\n",
       "      <td>1.0</td>\n",
       "      <td>48.0</td>\n",
       "      <td>Doctorate Degree</td>\n",
       "      <td>Retired</td>\n",
       "      <td>18925.23</td>\n",
       "      <td>Married</td>\n",
       "      <td>Male</td>\n",
       "      <td>No</td>\n",
       "      <td>15.206193</td>\n",
       "      <td>15</td>\n",
       "      <td>2</td>\n",
       "      <td>0</td>\n",
       "      <td>Yes</td>\n",
       "      <td>Two Year</td>\n",
       "      <td>No</td>\n",
       "      <td>No</td>\n",
       "      <td>DSL</td>\n",
       "      <td>Yes</td>\n",
       "      <td>No</td>\n",
       "      <td>Yes</td>\n",
       "      <td>No</td>\n",
       "      <td>No</td>\n",
       "      <td>No</td>\n",
       "      <td>Yes</td>\n",
       "      <td>No</td>\n",
       "      <td>Yes</td>\n",
       "      <td>Mailed Check</td>\n",
       "      <td>17.087227</td>\n",
       "      <td>120.249493</td>\n",
       "      <td>2164.579412</td>\n",
       "      <td>4</td>\n",
       "      <td>4</td>\n",
       "      <td>4</td>\n",
       "      <td>2</td>\n",
       "      <td>5</td>\n",
       "      <td>4</td>\n",
       "      <td>3</td>\n",
       "      <td>3</td>\n",
       "    </tr>\n",
       "    <tr>\n",
       "      <th>4</th>\n",
       "      <td>5</td>\n",
       "      <td>5</td>\n",
       "      <td>K662701</td>\n",
       "      <td>68a861fd-0d20-4e51-a587-8a90407ee574</td>\n",
       "      <td>Needville</td>\n",
       "      <td>TX</td>\n",
       "      <td>Fort Bend</td>\n",
       "      <td>77461</td>\n",
       "      <td>29.38012</td>\n",
       "      <td>-95.80673</td>\n",
       "      <td>11352</td>\n",
       "      <td>Suburban</td>\n",
       "      <td>America/Chicago</td>\n",
       "      <td>Medical illustrator</td>\n",
       "      <td>0.0</td>\n",
       "      <td>83.0</td>\n",
       "      <td>Master's Degree</td>\n",
       "      <td>Student</td>\n",
       "      <td>40074.19</td>\n",
       "      <td>Separated</td>\n",
       "      <td>Male</td>\n",
       "      <td>Yes</td>\n",
       "      <td>8.960316</td>\n",
       "      <td>16</td>\n",
       "      <td>2</td>\n",
       "      <td>1</td>\n",
       "      <td>No</td>\n",
       "      <td>Month-to-month</td>\n",
       "      <td>Yes</td>\n",
       "      <td>No</td>\n",
       "      <td>Fiber Optic</td>\n",
       "      <td>No</td>\n",
       "      <td>No</td>\n",
       "      <td>No</td>\n",
       "      <td>No</td>\n",
       "      <td>No</td>\n",
       "      <td>Yes</td>\n",
       "      <td>Yes</td>\n",
       "      <td>No</td>\n",
       "      <td>No</td>\n",
       "      <td>Mailed Check</td>\n",
       "      <td>1.670972</td>\n",
       "      <td>150.761216</td>\n",
       "      <td>271.493436</td>\n",
       "      <td>4</td>\n",
       "      <td>4</td>\n",
       "      <td>4</td>\n",
       "      <td>3</td>\n",
       "      <td>4</td>\n",
       "      <td>4</td>\n",
       "      <td>4</td>\n",
       "      <td>5</td>\n",
       "    </tr>\n",
       "  </tbody>\n",
       "</table>\n",
       "</div>"
      ],
      "text/plain": [
       "   Unnamed: 0  CaseOrder Customer_id                           Interaction  \\\n",
       "0           1          1     K409198  aa90260b-4141-4a24-8e36-b04ce1f4f77b   \n",
       "1           2          2     S120509  fb76459f-c047-4a9d-8af9-e0f7d4ac2524   \n",
       "2           3          3     K191035  344d114c-3736-4be5-98f7-c72c281e2d35   \n",
       "3           4          4      D90850  abfa2b40-2d43-4994-b15a-989b8c79e311   \n",
       "4           5          5     K662701  68a861fd-0d20-4e51-a587-8a90407ee574   \n",
       "\n",
       "          City State                 County    Zip       Lat        Lng  \\\n",
       "0  Point Baker    AK  Prince of Wales-Hyder  99927  56.25100 -133.37571   \n",
       "1  West Branch    MI                 Ogemaw  48661  44.32893  -84.24080   \n",
       "2      Yamhill    OR                Yamhill  97148  45.35589 -123.24657   \n",
       "3      Del Mar    CA              San Diego  92014  32.96687 -117.24798   \n",
       "4    Needville    TX              Fort Bend  77461  29.38012  -95.80673   \n",
       "\n",
       "   Population      Area             Timezone  \\\n",
       "0          38     Urban        America/Sitka   \n",
       "1       10446     Urban      America/Detroit   \n",
       "2        3735     Urban  America/Los_Angeles   \n",
       "3       13863  Suburban  America/Los_Angeles   \n",
       "4       11352  Suburban      America/Chicago   \n",
       "\n",
       "                                 Job  Children   Age  \\\n",
       "0  Environmental health practitioner       NaN  68.0   \n",
       "1             Programmer, multimedia       1.0  27.0   \n",
       "2            Chief Financial Officer       4.0  50.0   \n",
       "3                          Solicitor       1.0  48.0   \n",
       "4                Medical illustrator       0.0  83.0   \n",
       "\n",
       "                     Education Employment    Income    Marital  Gender Churn  \\\n",
       "0              Master's Degree  Part Time  28561.99    Widowed    Male    No   \n",
       "1  Regular High School Diploma    Retired  21704.77    Married  Female   Yes   \n",
       "2  Regular High School Diploma    Student       NaN    Widowed  Female    No   \n",
       "3             Doctorate Degree    Retired  18925.23    Married    Male    No   \n",
       "4              Master's Degree    Student  40074.19  Separated    Male   Yes   \n",
       "\n",
       "   Outage_sec_perweek  Email  Contacts  Yearly_equip_failure Techie  \\\n",
       "0            6.972566     10         0                     1     No   \n",
       "1           12.014541     12         0                     1    Yes   \n",
       "2           10.245616      9         0                     1    Yes   \n",
       "3           15.206193     15         2                     0    Yes   \n",
       "4            8.960316     16         2                     1     No   \n",
       "\n",
       "         Contract Port_modem Tablet InternetService Phone Multiple  \\\n",
       "0        One year        Yes    Yes     Fiber Optic   Yes       No   \n",
       "1  Month-to-month         No    Yes     Fiber Optic   Yes      Yes   \n",
       "2        Two Year        Yes     No             DSL   Yes      Yes   \n",
       "3        Two Year         No     No             DSL   Yes       No   \n",
       "4  Month-to-month        Yes     No     Fiber Optic    No       No   \n",
       "\n",
       "  OnlineSecurity OnlineBackup DeviceProtection TechSupport StreamingTV  \\\n",
       "0            Yes          Yes               No          No          No   \n",
       "1            Yes           No               No          No         Yes   \n",
       "2             No           No               No          No          No   \n",
       "3            Yes           No               No          No         Yes   \n",
       "4             No           No               No         Yes         Yes   \n",
       "\n",
       "  StreamingMovies PaperlessBilling             PaymentMethod     Tenure  \\\n",
       "0             Yes              Yes   Credit Card (automatic)   6.795513   \n",
       "1             Yes              Yes  Bank Transfer(automatic)   1.156681   \n",
       "2             Yes              Yes   Credit Card (automatic)  15.754144   \n",
       "3              No              Yes              Mailed Check  17.087227   \n",
       "4              No               No              Mailed Check   1.670972   \n",
       "\n",
       "   MonthlyCharge  Bandwidth_GB_Year  item1  item2  item3  item4  item5  item6  \\\n",
       "0     171.449762         904.536110      5      5      5      3      4      4   \n",
       "1     242.948015         800.982766      3      4      3      3      4      3   \n",
       "2     159.440398        2054.706961      4      4      2      4      4      3   \n",
       "3     120.249493        2164.579412      4      4      4      2      5      4   \n",
       "4     150.761216         271.493436      4      4      4      3      4      4   \n",
       "\n",
       "   item7  item8  \n",
       "0      3      4  \n",
       "1      4      4  \n",
       "2      3      3  \n",
       "3      3      3  \n",
       "4      4      5  "
      ]
     },
     "execution_count": 8,
     "metadata": {},
     "output_type": "execute_result"
    }
   ],
   "source": [
    "# display data set with all the columns\n",
    "pd.set_option('display.max_columns', None)\n",
    "df.head(n=5)"
   ]
  },
  {
   "cell_type": "code",
   "execution_count": 9,
   "id": "d38a16ea",
   "metadata": {},
   "outputs": [
    {
     "data": {
      "text/plain": [
       "(10000, 52)"
      ]
     },
     "execution_count": 9,
     "metadata": {},
     "output_type": "execute_result"
    }
   ],
   "source": [
    "# Number of records in the data set\n",
    "df.shape"
   ]
  },
  {
   "cell_type": "code",
   "execution_count": 10,
   "id": "bfdaed00",
   "metadata": {},
   "outputs": [
    {
     "data": {
      "text/plain": [
       "Unnamed: 0                int64\n",
       "CaseOrder                 int64\n",
       "Customer_id              object\n",
       "Interaction              object\n",
       "City                     object\n",
       "State                    object\n",
       "County                   object\n",
       "Zip                       int64\n",
       "Lat                     float64\n",
       "Lng                     float64\n",
       "Population                int64\n",
       "Area                     object\n",
       "Timezone                 object\n",
       "Job                      object\n",
       "Children                float64\n",
       "Age                     float64\n",
       "Education                object\n",
       "Employment               object\n",
       "Income                  float64\n",
       "Marital                  object\n",
       "Gender                   object\n",
       "Churn                    object\n",
       "Outage_sec_perweek      float64\n",
       "Email                     int64\n",
       "Contacts                  int64\n",
       "Yearly_equip_failure      int64\n",
       "Techie                   object\n",
       "Contract                 object\n",
       "Port_modem               object\n",
       "Tablet                   object\n",
       "InternetService          object\n",
       "Phone                    object\n",
       "Multiple                 object\n",
       "OnlineSecurity           object\n",
       "OnlineBackup             object\n",
       "DeviceProtection         object\n",
       "TechSupport              object\n",
       "StreamingTV              object\n",
       "StreamingMovies          object\n",
       "PaperlessBilling         object\n",
       "PaymentMethod            object\n",
       "Tenure                  float64\n",
       "MonthlyCharge           float64\n",
       "Bandwidth_GB_Year       float64\n",
       "item1                     int64\n",
       "item2                     int64\n",
       "item3                     int64\n",
       "item4                     int64\n",
       "item5                     int64\n",
       "item6                     int64\n",
       "item7                     int64\n",
       "item8                     int64\n",
       "dtype: object"
      ]
     },
     "execution_count": 10,
     "metadata": {},
     "output_type": "execute_result"
    }
   ],
   "source": [
    "# Column names and their data types\n",
    "df.dtypes"
   ]
  },
  {
   "cell_type": "code",
   "execution_count": 11,
   "id": "95e930b3",
   "metadata": {},
   "outputs": [],
   "source": [
    "# Remove column with no headers\n",
    "df = df.drop(df.columns[[0]], axis=1)"
   ]
  },
  {
   "cell_type": "code",
   "execution_count": 12,
   "id": "d0299345",
   "metadata": {},
   "outputs": [],
   "source": [
    "# Amend columns with no names\n",
    "df = df.rename(columns=({ 'item1': 'Timely response', 'item2':'Timely fixes', 'item3':'Timely replacements', \n",
    "                         'item4':'Reliability', 'item5':'Options', 'item6':'Respectful response',\n",
    "                         'item7':'Courteous exchange', 'item8':'Evidence of active listening'}))"
   ]
  },
  {
   "cell_type": "markdown",
   "id": "c488bd76",
   "metadata": {},
   "source": [
    "#### Identify spelling mistakes in the rows"
   ]
  },
  {
   "cell_type": "code",
   "execution_count": 14,
   "id": "5943ca21",
   "metadata": {},
   "outputs": [
    {
     "data": {
      "text/plain": [
       "array(['Urban', 'Suburban', 'Rural'], dtype=object)"
      ]
     },
     "execution_count": 14,
     "metadata": {},
     "output_type": "execute_result"
    }
   ],
   "source": [
    "# Review unique data in Area column\n",
    "df['Area'].unique()"
   ]
  },
  {
   "cell_type": "code",
   "execution_count": 15,
   "id": "432a85dd",
   "metadata": {},
   "outputs": [
    {
     "data": {
      "text/plain": [
       "array(['Part Time', 'Retired', 'Student', 'Full Time', 'Unemployed'],\n",
       "      dtype=object)"
      ]
     },
     "execution_count": 15,
     "metadata": {},
     "output_type": "execute_result"
    }
   ],
   "source": [
    "# Review unique data in Employment column\n",
    "df['Employment'].unique()"
   ]
  },
  {
   "cell_type": "code",
   "execution_count": 16,
   "id": "ead2918e",
   "metadata": {},
   "outputs": [
    {
     "data": {
      "text/plain": [
       "array(['Male', 'Female', 'Prefer not to answer'], dtype=object)"
      ]
     },
     "execution_count": 16,
     "metadata": {},
     "output_type": "execute_result"
    }
   ],
   "source": [
    "# Review unique data in Gender column\n",
    "df['Gender'].unique()"
   ]
  },
  {
   "cell_type": "code",
   "execution_count": 17,
   "id": "62589bb3",
   "metadata": {},
   "outputs": [
    {
     "data": {
      "text/plain": [
       "array(['Widowed', 'Married', 'Separated', 'Never Married', 'Divorced'],\n",
       "      dtype=object)"
      ]
     },
     "execution_count": 17,
     "metadata": {},
     "output_type": "execute_result"
    }
   ],
   "source": [
    "# Review unique data in Marital column\n",
    "df['Marital'].unique()"
   ]
  },
  {
   "cell_type": "code",
   "execution_count": 18,
   "id": "833e6ab3",
   "metadata": {},
   "outputs": [
    {
     "data": {
      "text/plain": [
       "array(['Credit Card (automatic)', 'Bank Transfer(automatic)',\n",
       "       'Mailed Check', 'Electronic Check'], dtype=object)"
      ]
     },
     "execution_count": 18,
     "metadata": {},
     "output_type": "execute_result"
    }
   ],
   "source": [
    "# Review unique data in PaymentMethod column\n",
    "df['PaymentMethod'].unique()"
   ]
  },
  {
   "cell_type": "code",
   "execution_count": 19,
   "id": "89b706db",
   "metadata": {},
   "outputs": [
    {
     "data": {
      "text/plain": [
       "array(['Fiber Optic', 'DSL', 'None'], dtype=object)"
      ]
     },
     "execution_count": 19,
     "metadata": {},
     "output_type": "execute_result"
    }
   ],
   "source": [
    "# Review unique data in InternetService column\n",
    "df['InternetService'].unique()"
   ]
  },
  {
   "cell_type": "code",
   "execution_count": 20,
   "id": "bc0cacc8",
   "metadata": {},
   "outputs": [
    {
     "data": {
      "text/plain": [
       "array(['Environmental health practitioner', 'Programmer, multimedia',\n",
       "       'Chief Financial Officer', 'Solicitor', 'Medical illustrator',\n",
       "       'Chief Technology Officer', 'Surveyor, hydrographic',\n",
       "       'Sales promotion account executive',\n",
       "       'Teaching laboratory technician', 'Museum education officer',\n",
       "       'Teacher, special educational needs', 'Maintenance engineer',\n",
       "       'Engineer, broadcasting (operations)', 'Learning disability nurse',\n",
       "       'Automotive engineer', 'Amenity horticulturist',\n",
       "       'Applications developer', 'Immunologist', 'Engineer, electrical',\n",
       "       'Broadcast presenter', 'Counsellor', 'Geophysical data processor',\n",
       "       'Designer, multimedia', 'Event organiser',\n",
       "       'Equality and diversity officer', 'Psychiatrist',\n",
       "       'Surveyor, commercial/residential', 'Civil Service administrator',\n",
       "       'Radiographer, diagnostic', 'Air traffic controller', 'Dietitian',\n",
       "       'Therapist, occupational', 'Building services engineer',\n",
       "       'Information officer', 'Outdoor activities/education manager',\n",
       "       'Market researcher', 'Surveyor, insurance', 'Office manager',\n",
       "       'Editorial assistant', 'Customer service manager',\n",
       "       'Production designer, theatre/television/film',\n",
       "       'Analytical chemist', 'Print production planner',\n",
       "       'Conservation officer, nature', 'Librarian, public',\n",
       "       'Financial adviser', 'Surveyor, building',\n",
       "       'Horticulturist, amenity', 'Diagnostic radiographer',\n",
       "       'Doctor, general practice', 'Insurance risk surveyor',\n",
       "       'Heritage manager', 'Legal executive', 'Professor Emeritus',\n",
       "       'Radio producer', \"Barrister's clerk\", 'Engineer, automotive',\n",
       "       'Recruitment consultant', 'Commercial horticulturist',\n",
       "       'Pharmacist, community', 'Forest/woodland manager',\n",
       "       'Designer, graphic', 'Civil engineer, consulting',\n",
       "       'Science writer', 'Health and safety inspector',\n",
       "       'Administrator, Civil Service', 'Technical sales engineer',\n",
       "       'Special educational needs teacher', 'Sports therapist',\n",
       "       'Engineer, communications', 'Oceanographer', 'Archaeologist',\n",
       "       'Personal assistant', 'Animal nutritionist', 'Hydrologist',\n",
       "       'Arts development officer', 'Herpetologist',\n",
       "       'Medical sales representative',\n",
       "       'Scientist, research (physical sciences)',\n",
       "       'Higher education lecturer', 'Nurse, adult', 'Chiropodist',\n",
       "       'Therapeutic radiographer', 'Designer, television/film set',\n",
       "       'Education officer, environmental', 'Colour technologist',\n",
       "       'Academic librarian', 'Mudlogger', 'Designer, textile',\n",
       "       'Chief Strategy Officer', 'Loss adjuster, chartered',\n",
       "       'Pharmacologist', 'Hydrographic surveyor',\n",
       "       'Engineer, manufacturing', 'Research scientist (medical)',\n",
       "       'Wellsite geologist', 'Embryologist, clinical',\n",
       "       'Occupational psychologist', 'Sales professional, IT',\n",
       "       'Advertising copywriter', 'Radiographer, therapeutic',\n",
       "       'English as a second language teacher', 'Occupational therapist',\n",
       "       'Armed forces logistics/support/administrative officer',\n",
       "       'Technical author', 'Regulatory affairs officer',\n",
       "       'Optician, dispensing', 'Theme park manager', 'IT trainer',\n",
       "       'Contracting civil engineer', 'Psychologist, sport and exercise',\n",
       "       'Manufacturing engineer', 'Musician',\n",
       "       'Senior tax professional/tax inspector', 'Engineer, biomedical',\n",
       "       'Facilities manager', 'Osteopath', 'Corporate investment banker',\n",
       "       'Psychotherapist', 'Copywriter, advertising',\n",
       "       'Horticultural consultant', 'Microbiologist',\n",
       "       'Educational psychologist', 'Sport and exercise psychologist',\n",
       "       'Risk manager', 'Health visitor', 'Visual merchandiser',\n",
       "       'Clinical biochemist', 'Water quality scientist', 'Optometrist',\n",
       "       'Petroleum engineer', 'Building control surveyor',\n",
       "       'Financial planner', 'Theatre director', 'Secretary, company',\n",
       "       'Materials engineer', 'Civil Service fast streamer',\n",
       "       'Health service manager', 'Scientist, forensic',\n",
       "       'Immigration officer', 'Dealer',\n",
       "       'Planning and development surveyor', 'Broadcast engineer',\n",
       "       'Local government officer', 'Nature conservation officer',\n",
       "       'Private music teacher', 'Geologist, wellsite', 'Gaffer',\n",
       "       'Curator', 'Editor, commissioning', 'Barrister', 'TEFL teacher',\n",
       "       'Public relations account executive', 'Audiological scientist',\n",
       "       'Travel agency manager', 'Land', 'Music therapist',\n",
       "       'Librarian, academic', 'Film/video editor',\n",
       "       'Journalist, broadcasting', 'Waste management officer',\n",
       "       'Scientist, water quality', 'Sub', 'Neurosurgeon',\n",
       "       'Scientist, research (maths)', 'Public house manager',\n",
       "       'Building surveyor', 'Animator',\n",
       "       'Production assistant, television', 'Transport planner',\n",
       "       'Geneticist, molecular', 'Merchant navy officer',\n",
       "       'Research scientist (life sciences)',\n",
       "       'Engineer, building services', 'Solicitor, Scotland',\n",
       "       'Hospital pharmacist', 'Engineer, petroleum', 'Oncologist',\n",
       "       'IT technical support officer', 'Site engineer',\n",
       "       'Early years teacher', 'Plant breeder/geneticist',\n",
       "       'Chartered management accountant',\n",
       "       'Runner, broadcasting/film/video', 'Newspaper journalist',\n",
       "       'Naval architect', 'Agricultural engineer', 'Meteorologist',\n",
       "       'Designer, ceramics/pottery', 'Environmental education officer',\n",
       "       'Textile designer', 'Engineer, materials', 'Magazine journalist',\n",
       "       'Conference centre manager', 'Dance movement psychotherapist',\n",
       "       'Warden/ranger', 'Teacher, English as a foreign language',\n",
       "       'Producer, television/film/video', 'Make', 'Pharmacist, hospital',\n",
       "       'Therapist, horticultural', 'Journalist, newspaper',\n",
       "       'Retail merchandiser', 'Nurse, mental health', 'Chief of Staff',\n",
       "       'Systems analyst', 'Electronics engineer', 'Quantity surveyor',\n",
       "       'Minerals surveyor', 'Scientist, research (life sciences)',\n",
       "       'Archivist', 'Brewing technologist',\n",
       "       'Investment banker, operational',\n",
       "       'Accountant, chartered certified', 'Surveyor, minerals',\n",
       "       'Hospital doctor', 'Theatre stage manager',\n",
       "       'Operational researcher', 'Tax inspector',\n",
       "       'Television camera operator', 'Arts administrator',\n",
       "       'Patent attorney', 'Bonds trader', 'Ship broker',\n",
       "       'Furniture conservator/restorer', 'Media planner',\n",
       "       'Radio broadcast assistant', 'Mental health nurse',\n",
       "       'Purchasing manager', 'Scientist, biomedical', 'Photographer',\n",
       "       'Sports coach', 'Environmental manager', 'Estate agent',\n",
       "       'Public librarian', 'Designer, blown glass/stained glass',\n",
       "       'Occupational hygienist', 'Surgeon', 'Youth worker',\n",
       "       'Hotel manager', 'Programmer, systems', \"Politician's assistant\",\n",
       "       'Social researcher', 'Publishing copy', 'Tax adviser',\n",
       "       'Quarry manager', 'Buyer, industrial', 'Production manager',\n",
       "       'Police officer', 'Theatre manager', 'Sports administrator',\n",
       "       'Research scientist (maths)', 'Therapist, music', 'Soil scientist',\n",
       "       'Holiday representative', 'Producer, radio',\n",
       "       'Intelligence analyst', 'Geochemist', 'Probation officer',\n",
       "       'Fish farm manager', 'Chartered accountant', 'Architect',\n",
       "       'Psychiatric nurse', 'Farm manager', 'Geoscientist',\n",
       "       'Lecturer, further education', 'Horticulturist, commercial',\n",
       "       'Surveyor, quantity', 'Clothing/textile technologist',\n",
       "       'Technical brewer', 'Landscape architect',\n",
       "       'Information systems manager', 'Sales executive',\n",
       "       'Exercise physiologist', 'Administrator, arts', 'Careers adviser',\n",
       "       'Lobbyist', 'Claims inspector/assessor', 'Recycling officer',\n",
       "       'Product/process development scientist', 'Paramedic',\n",
       "       'Fine artist', 'Teacher, secondary school',\n",
       "       'Data processing manager', 'Government social research officer',\n",
       "       'Product manager', 'Accounting technician', 'Engineer, land',\n",
       "       'Lawyer', 'Restaurant manager', 'Catering manager', 'Contractor',\n",
       "       'Research officer, government', 'Medical secretary', 'Podiatrist',\n",
       "       'Phytotherapist', 'Surveyor, building control', 'Comptroller',\n",
       "       'Lighting technician, broadcasting/film/video', 'Paediatric nurse',\n",
       "       'Designer, furniture', 'Adult guidance worker',\n",
       "       'Clinical molecular geneticist', 'Games developer', 'Metallurgist',\n",
       "       'Armed forces technical officer', 'Risk analyst',\n",
       "       'Careers information officer', 'Garment/textile technologist',\n",
       "       'Multimedia specialist', 'Trade union research officer',\n",
       "       'Museum/gallery exhibitions officer',\n",
       "       'Armed forces operational officer', 'Air broker',\n",
       "       'Mechanical engineer', 'Ceramics designer', 'Airline pilot',\n",
       "       'Trading standards officer', 'Advice worker', 'Music tutor',\n",
       "       'Leisure centre manager', 'Surveyor, rural practice',\n",
       "       'Scientist, physiological', 'Fisheries officer',\n",
       "       'Research officer, trade union', 'Licensed conveyancer',\n",
       "       \"Nurse, children's\", 'Museum/gallery curator',\n",
       "       'Psychologist, occupational', 'Astronomer', 'Therapist, drama',\n",
       "       'Therapist, speech and language', 'Surveyor, land/geomatics',\n",
       "       'Production assistant, radio', 'Human resources officer',\n",
       "       'Fast food restaurant manager', 'Orthoptist',\n",
       "       'Public relations officer', 'Bookseller',\n",
       "       'Health and safety adviser', 'Clinical cytogeneticist',\n",
       "       'Ergonomist', 'Psychologist, prison and probation services',\n",
       "       'Actuary',\n",
       "       'Scientist, clinical (histocompatibility and immunogenetics)',\n",
       "       'Community development worker', 'Consulting civil engineer',\n",
       "       'Television production assistant', 'Veterinary surgeon',\n",
       "       'Teacher, adult education', 'Civil engineer, contracting',\n",
       "       'Architectural technologist', 'Volunteer coordinator',\n",
       "       'Primary school teacher', 'Insurance underwriter',\n",
       "       'Research officer, political party',\n",
       "       'Radiation protection practitioner', 'Psychotherapist, child',\n",
       "       'Interior and spatial designer', 'Therapist, nutritional',\n",
       "       'Jewellery designer', 'Press sub',\n",
       "       'Clinical scientist, histocompatibility and immunogenetics',\n",
       "       'Administrator, sports', 'Insurance account manager',\n",
       "       'Museum/gallery conservator', 'Furniture designer',\n",
       "       'Haematologist', 'Associate Professor', 'Physicist, medical',\n",
       "       'Pathologist', 'Chartered public finance accountant', 'Printmaker',\n",
       "       'Surveyor, mining', 'Chief Marketing Officer',\n",
       "       'General practice doctor', 'Chemical engineer',\n",
       "       'Forensic scientist', 'Marketing executive', 'Art gallery manager',\n",
       "       'Therapist, sports', 'Insurance claims handler',\n",
       "       'Secondary school teacher',\n",
       "       'Development worker, international aid', 'Quality manager',\n",
       "       'Conservator, furniture', 'Tour manager',\n",
       "       'Control and instrumentation engineer', 'Adult nurse',\n",
       "       'Diplomatic Services operational officer', 'Cartographer',\n",
       "       'Chiropractor', 'Land/geomatics surveyor', 'Statistician',\n",
       "       'Financial trader', 'Special effects artist',\n",
       "       'Clinical psychologist', 'Further education lecturer',\n",
       "       'Engineer, water', 'Energy manager', 'Education administrator',\n",
       "       'Art therapist', 'Television floor manager', 'Legal secretary',\n",
       "       'Merchandiser, retail', 'Web designer',\n",
       "       'Nurse, learning disability',\n",
       "       'International aid/development worker', 'Warehouse manager',\n",
       "       'Engineer, mining', 'Exhibition designer',\n",
       "       'Administrator, local government', 'Water engineer',\n",
       "       'Physiotherapist', 'Engineer, electronics', 'Equities trader',\n",
       "       'Telecommunications researcher', 'Hydrogeologist',\n",
       "       'Community education officer', 'Engineer, energy',\n",
       "       'Scientist, audiological', 'Patent examiner', 'Retail manager',\n",
       "       'Engineer, aeronautical', 'Engineer, site',\n",
       "       'Engineer, civil (contracting)', 'Proofreader',\n",
       "       'Scientist, marine', 'Speech and language therapist',\n",
       "       'IT sales professional', 'Buyer, retail', 'Network engineer',\n",
       "       'Commercial art gallery manager',\n",
       "       'Chartered legal executive (England and Wales)',\n",
       "       'Presenter, broadcasting', 'Surveyor, planning and development',\n",
       "       'Research scientist (physical sciences)', 'Commissioning editor',\n",
       "       'Operational investment banker', 'Seismic interpreter',\n",
       "       'Charity officer', 'English as a foreign language teacher',\n",
       "       'Scientist, research (medical)', 'Designer, interior/spatial',\n",
       "       'Lexicographer', 'Therapist, art', 'Clinical embryologist',\n",
       "       'Child psychotherapist', 'Midwife', 'Pensions consultant',\n",
       "       'Tree surgeon', 'Health physicist', 'Artist', 'Company secretary',\n",
       "       'Fashion designer', 'IT consultant', 'Teacher, early years/pre',\n",
       "       'Geographical information systems officer',\n",
       "       'Tourist information centre manager', 'Biomedical engineer',\n",
       "       'Biomedical scientist', 'Financial risk analyst',\n",
       "       'Multimedia programmer', 'Engineer, control and instrumentation',\n",
       "       'Insurance broker', 'Drilling engineer',\n",
       "       'Development worker, community', 'Designer, industrial/product',\n",
       "       'Medical technical officer', 'Advertising account executive',\n",
       "       'Counselling psychologist', 'Tourism officer', 'Dancer',\n",
       "       'Social research officer, government', 'Teacher, music',\n",
       "       'Translator', 'Race relations officer',\n",
       "       'Engineer, civil (consulting)',\n",
       "       'Historic buildings inspector/conservation officer',\n",
       "       'Financial manager', 'Financial controller', 'Designer, jewellery',\n",
       "       'Retail banker',\n",
       "       'Administrator, charities/voluntary organisations',\n",
       "       'Magazine features editor', 'Psychotherapist, dance movement',\n",
       "       'Barista', 'Passenger transport manager', 'Mining engineer',\n",
       "       'Administrator, education',\n",
       "       'Programme researcher, broadcasting/film/video', 'Ranger/warden',\n",
       "       'Actor', 'Pension scheme manager', 'Investment analyst',\n",
       "       'Physiological scientist', 'Advertising art director',\n",
       "       'Sports development officer', 'Manufacturing systems engineer',\n",
       "       'Accommodation manager', 'Television/film/video producer',\n",
       "       'Accountant, chartered', 'Engineer, agricultural',\n",
       "       'Horticultural therapist', 'Economist',\n",
       "       'Training and development officer', 'Engineer, maintenance',\n",
       "       'Logistics and distribution manager', 'Psychologist, clinical',\n",
       "       'Accountant, chartered management', 'Rural practice surveyor',\n",
       "       'Biochemist, clinical', 'Set designer', 'Nutritional therapist',\n",
       "       'Illustrator', 'Designer, exhibition/display',\n",
       "       'Armed forces training and education officer', 'Location manager',\n",
       "       'Charity fundraiser', 'Community pharmacist',\n",
       "       'Geophysicist/field seismologist', 'Designer, fashion/clothing',\n",
       "       'Computer games developer', 'Acupuncturist',\n",
       "       'Database administrator', 'Stage manager', 'Operations geologist',\n",
       "       'Marine scientist', 'Glass blower/designer', 'Corporate treasurer',\n",
       "       'Ecologist', 'Structural engineer', 'Housing manager/officer',\n",
       "       'Chief Operating Officer', 'Engineer, manufacturing systems',\n",
       "       'Herbalist', 'Editor, film/video', 'Retail buyer',\n",
       "       'Doctor, hospital', 'Prison officer', 'Ophthalmologist',\n",
       "       'Chemist, analytical', 'Chartered certified accountant',\n",
       "       'Industrial buyer', 'Video editor', 'Publishing rights manager',\n",
       "       'Engineer, drilling', 'Food technologist', 'Arboriculturist',\n",
       "       'Engineer, technical sales', 'Systems developer', 'Firefighter',\n",
       "       'Education officer, museum', 'Media buyer', 'Records manager',\n",
       "       'Aid worker', 'Pilot, airline', 'Advertising account planner',\n",
       "       'Psychologist, counselling', 'Environmental consultant', 'Copy',\n",
       "       'Trade mark attorney', 'Psychologist, forensic', 'Social worker',\n",
       "       'Administrator', 'Agricultural consultant',\n",
       "       'Education officer, community', 'Management consultant',\n",
       "       'Field trials officer', 'Graphic designer',\n",
       "       'Teacher, primary school', 'Homeopath', 'Cabin crew',\n",
       "       'Editor, magazine features', 'Medical physicist',\n",
       "       'Medical laboratory scientific officer', 'Press photographer',\n",
       "       'Field seismologist', 'Estate manager/land agent',\n",
       "       'Industrial/product designer', 'Software engineer',\n",
       "       'Air cabin crew', 'Freight forwarder', 'Engineer, structural',\n",
       "       'Fitness centre manager', 'Interpreter',\n",
       "       'Scientific laboratory technician', 'Data scientist',\n",
       "       'Electrical engineer', 'Clinical research associate',\n",
       "       'Engineering geologist', 'Call centre manager',\n",
       "       'Psychologist, educational', 'Conservator, museum/gallery',\n",
       "       'Emergency planning/management officer', 'Communications engineer',\n",
       "       'Conservation officer, historic buildings', 'Cytogeneticist',\n",
       "       'Personnel officer', 'Dramatherapist',\n",
       "       'Investment banker, corporate', 'Camera operator',\n",
       "       'Chartered loss adjuster', 'Health promotion specialist',\n",
       "       'Scientist, product/process development', 'Learning mentor',\n",
       "       'Lecturer, higher education',\n",
       "       'Sound technician, broadcasting/film/video',\n",
       "       'Restaurant manager, fast food', 'Engineer, maintenance (IT)',\n",
       "       'Energy engineer', 'Dispensing optician',\n",
       "       'Chief Executive Officer', 'Ambulance person',\n",
       "       'Public affairs consultant', 'Product designer',\n",
       "       'Community arts worker', 'Higher education careers adviser',\n",
       "       'Dentist', 'Exhibitions officer, museum/gallery', 'Futures trader',\n",
       "       'Commercial/residential surveyor', 'Engineer, production',\n",
       "       'Animal technologist', 'Banker', 'Programmer, applications',\n",
       "       'Best boy', 'Secretary/administrator', 'Journalist, magazine',\n",
       "       'Production engineer', 'Accountant, chartered public finance',\n",
       "       'Geologist, engineering', 'Aeronautical engineer',\n",
       "       'Engineer, chemical', 'Forensic psychologist',\n",
       "       'Broadcast journalist', 'Town planner', 'Toxicologist', 'Writer'],\n",
       "      dtype=object)"
      ]
     },
     "execution_count": 20,
     "metadata": {},
     "output_type": "execute_result"
    }
   ],
   "source": [
    "# Review unique data in Job column\n",
    "df['Job'].unique()"
   ]
  },
  {
   "cell_type": "markdown",
   "id": "923a7ec1",
   "metadata": {},
   "source": [
    "#### Reexpression of categorical data as numerical data"
   ]
  },
  {
   "cell_type": "markdown",
   "id": "69a71bb2",
   "metadata": {},
   "source": [
    "#### Education"
   ]
  },
  {
   "cell_type": "code",
   "execution_count": 21,
   "id": "87171ad5",
   "metadata": {},
   "outputs": [
    {
     "data": {
      "text/plain": [
       "[\"Master's Degree\",\n",
       " 'Regular High School Diploma',\n",
       " 'Doctorate Degree',\n",
       " 'No Schooling Completed',\n",
       " \"Associate's Degree\",\n",
       " \"Bachelor's Degree\",\n",
       " 'Some College, Less than 1 Year',\n",
       " 'GED or Alternative Credential',\n",
       " 'Some College, 1 or More Years, No Degree',\n",
       " '9th Grade to 12th Grade, No Diploma',\n",
       " 'Nursery School to 8th Grade',\n",
       " 'Professional School Degree']"
      ]
     },
     "execution_count": 21,
     "metadata": {},
     "output_type": "execute_result"
    }
   ],
   "source": [
    "# Capture unique values from the 'Education' column for Re-Expression\n",
    "df['Education'].unique().tolist()"
   ]
  },
  {
   "cell_type": "code",
   "execution_count": 22,
   "id": "2ce024de",
   "metadata": {},
   "outputs": [],
   "source": [
    "# Re-expression categorial data in 'Education' columns\n",
    "dict_edu= {'Education': {\n",
    "     'No Schooling Completed': 0,\n",
    "     'Nursery School to 8th Grade': 8,\n",
    "     '9th Grade to 12th Grade, No Diploma':11,\n",
    "     'Regular High School Diploma': 12,\n",
    "     'GED or Alternative Credential': 12,\n",
    "     'Some College, Less than 1 Year': 12,\n",
    "     'Some College, 1 or More Years, No Degree': 12,\n",
    "     'Professional School Degree':13,\n",
    "     \"Associate's Degree\": 14,\n",
    "     \"Bachelor's Degree\": 16,\n",
    "     \"Master's Degree\": 18,\n",
    "     'Doctorate Degree': 20,\n",
    "}}"
   ]
  },
  {
   "cell_type": "code",
   "execution_count": 23,
   "id": "e655504d",
   "metadata": {},
   "outputs": [],
   "source": [
    "# Apply the Reexpression values\n",
    "df.replace(dict_edu, inplace = True)"
   ]
  },
  {
   "cell_type": "code",
   "execution_count": 24,
   "id": "fb00dea7",
   "metadata": {},
   "outputs": [
    {
     "data": {
      "text/html": [
       "<div>\n",
       "<style scoped>\n",
       "    .dataframe tbody tr th:only-of-type {\n",
       "        vertical-align: middle;\n",
       "    }\n",
       "\n",
       "    .dataframe tbody tr th {\n",
       "        vertical-align: top;\n",
       "    }\n",
       "\n",
       "    .dataframe thead th {\n",
       "        text-align: right;\n",
       "    }\n",
       "</style>\n",
       "<table border=\"1\" class=\"dataframe\">\n",
       "  <thead>\n",
       "    <tr style=\"text-align: right;\">\n",
       "      <th></th>\n",
       "      <th>CaseOrder</th>\n",
       "      <th>Customer_id</th>\n",
       "      <th>Interaction</th>\n",
       "      <th>City</th>\n",
       "      <th>State</th>\n",
       "      <th>County</th>\n",
       "      <th>Zip</th>\n",
       "      <th>Lat</th>\n",
       "      <th>Lng</th>\n",
       "      <th>Population</th>\n",
       "      <th>Area</th>\n",
       "      <th>Timezone</th>\n",
       "      <th>Job</th>\n",
       "      <th>Children</th>\n",
       "      <th>Age</th>\n",
       "      <th>Education</th>\n",
       "      <th>Employment</th>\n",
       "      <th>Income</th>\n",
       "      <th>Marital</th>\n",
       "      <th>Gender</th>\n",
       "      <th>Churn</th>\n",
       "      <th>Outage_sec_perweek</th>\n",
       "      <th>Email</th>\n",
       "      <th>Contacts</th>\n",
       "      <th>Yearly_equip_failure</th>\n",
       "      <th>Techie</th>\n",
       "      <th>Contract</th>\n",
       "      <th>Port_modem</th>\n",
       "      <th>Tablet</th>\n",
       "      <th>InternetService</th>\n",
       "      <th>Phone</th>\n",
       "      <th>Multiple</th>\n",
       "      <th>OnlineSecurity</th>\n",
       "      <th>OnlineBackup</th>\n",
       "      <th>DeviceProtection</th>\n",
       "      <th>TechSupport</th>\n",
       "      <th>StreamingTV</th>\n",
       "      <th>StreamingMovies</th>\n",
       "      <th>PaperlessBilling</th>\n",
       "      <th>PaymentMethod</th>\n",
       "      <th>Tenure</th>\n",
       "      <th>MonthlyCharge</th>\n",
       "      <th>Bandwidth_GB_Year</th>\n",
       "      <th>Timely response</th>\n",
       "      <th>Timely fixes</th>\n",
       "      <th>Timely replacements</th>\n",
       "      <th>Reliability</th>\n",
       "      <th>Options</th>\n",
       "      <th>Respectful response</th>\n",
       "      <th>Courteous exchange</th>\n",
       "      <th>Evidence of active listening</th>\n",
       "    </tr>\n",
       "  </thead>\n",
       "  <tbody>\n",
       "    <tr>\n",
       "      <th>0</th>\n",
       "      <td>1</td>\n",
       "      <td>K409198</td>\n",
       "      <td>aa90260b-4141-4a24-8e36-b04ce1f4f77b</td>\n",
       "      <td>Point Baker</td>\n",
       "      <td>AK</td>\n",
       "      <td>Prince of Wales-Hyder</td>\n",
       "      <td>99927</td>\n",
       "      <td>56.25100</td>\n",
       "      <td>-133.37571</td>\n",
       "      <td>38</td>\n",
       "      <td>Urban</td>\n",
       "      <td>America/Sitka</td>\n",
       "      <td>Environmental health practitioner</td>\n",
       "      <td>NaN</td>\n",
       "      <td>68.0</td>\n",
       "      <td>18</td>\n",
       "      <td>Part Time</td>\n",
       "      <td>28561.99</td>\n",
       "      <td>Widowed</td>\n",
       "      <td>Male</td>\n",
       "      <td>No</td>\n",
       "      <td>6.972566</td>\n",
       "      <td>10</td>\n",
       "      <td>0</td>\n",
       "      <td>1</td>\n",
       "      <td>No</td>\n",
       "      <td>One year</td>\n",
       "      <td>Yes</td>\n",
       "      <td>Yes</td>\n",
       "      <td>Fiber Optic</td>\n",
       "      <td>Yes</td>\n",
       "      <td>No</td>\n",
       "      <td>Yes</td>\n",
       "      <td>Yes</td>\n",
       "      <td>No</td>\n",
       "      <td>No</td>\n",
       "      <td>No</td>\n",
       "      <td>Yes</td>\n",
       "      <td>Yes</td>\n",
       "      <td>Credit Card (automatic)</td>\n",
       "      <td>6.795513</td>\n",
       "      <td>171.449762</td>\n",
       "      <td>904.536110</td>\n",
       "      <td>5</td>\n",
       "      <td>5</td>\n",
       "      <td>5</td>\n",
       "      <td>3</td>\n",
       "      <td>4</td>\n",
       "      <td>4</td>\n",
       "      <td>3</td>\n",
       "      <td>4</td>\n",
       "    </tr>\n",
       "    <tr>\n",
       "      <th>1</th>\n",
       "      <td>2</td>\n",
       "      <td>S120509</td>\n",
       "      <td>fb76459f-c047-4a9d-8af9-e0f7d4ac2524</td>\n",
       "      <td>West Branch</td>\n",
       "      <td>MI</td>\n",
       "      <td>Ogemaw</td>\n",
       "      <td>48661</td>\n",
       "      <td>44.32893</td>\n",
       "      <td>-84.24080</td>\n",
       "      <td>10446</td>\n",
       "      <td>Urban</td>\n",
       "      <td>America/Detroit</td>\n",
       "      <td>Programmer, multimedia</td>\n",
       "      <td>1.0</td>\n",
       "      <td>27.0</td>\n",
       "      <td>12</td>\n",
       "      <td>Retired</td>\n",
       "      <td>21704.77</td>\n",
       "      <td>Married</td>\n",
       "      <td>Female</td>\n",
       "      <td>Yes</td>\n",
       "      <td>12.014541</td>\n",
       "      <td>12</td>\n",
       "      <td>0</td>\n",
       "      <td>1</td>\n",
       "      <td>Yes</td>\n",
       "      <td>Month-to-month</td>\n",
       "      <td>No</td>\n",
       "      <td>Yes</td>\n",
       "      <td>Fiber Optic</td>\n",
       "      <td>Yes</td>\n",
       "      <td>Yes</td>\n",
       "      <td>Yes</td>\n",
       "      <td>No</td>\n",
       "      <td>No</td>\n",
       "      <td>No</td>\n",
       "      <td>Yes</td>\n",
       "      <td>Yes</td>\n",
       "      <td>Yes</td>\n",
       "      <td>Bank Transfer(automatic)</td>\n",
       "      <td>1.156681</td>\n",
       "      <td>242.948015</td>\n",
       "      <td>800.982766</td>\n",
       "      <td>3</td>\n",
       "      <td>4</td>\n",
       "      <td>3</td>\n",
       "      <td>3</td>\n",
       "      <td>4</td>\n",
       "      <td>3</td>\n",
       "      <td>4</td>\n",
       "      <td>4</td>\n",
       "    </tr>\n",
       "    <tr>\n",
       "      <th>2</th>\n",
       "      <td>3</td>\n",
       "      <td>K191035</td>\n",
       "      <td>344d114c-3736-4be5-98f7-c72c281e2d35</td>\n",
       "      <td>Yamhill</td>\n",
       "      <td>OR</td>\n",
       "      <td>Yamhill</td>\n",
       "      <td>97148</td>\n",
       "      <td>45.35589</td>\n",
       "      <td>-123.24657</td>\n",
       "      <td>3735</td>\n",
       "      <td>Urban</td>\n",
       "      <td>America/Los_Angeles</td>\n",
       "      <td>Chief Financial Officer</td>\n",
       "      <td>4.0</td>\n",
       "      <td>50.0</td>\n",
       "      <td>12</td>\n",
       "      <td>Student</td>\n",
       "      <td>NaN</td>\n",
       "      <td>Widowed</td>\n",
       "      <td>Female</td>\n",
       "      <td>No</td>\n",
       "      <td>10.245616</td>\n",
       "      <td>9</td>\n",
       "      <td>0</td>\n",
       "      <td>1</td>\n",
       "      <td>Yes</td>\n",
       "      <td>Two Year</td>\n",
       "      <td>Yes</td>\n",
       "      <td>No</td>\n",
       "      <td>DSL</td>\n",
       "      <td>Yes</td>\n",
       "      <td>Yes</td>\n",
       "      <td>No</td>\n",
       "      <td>No</td>\n",
       "      <td>No</td>\n",
       "      <td>No</td>\n",
       "      <td>No</td>\n",
       "      <td>Yes</td>\n",
       "      <td>Yes</td>\n",
       "      <td>Credit Card (automatic)</td>\n",
       "      <td>15.754144</td>\n",
       "      <td>159.440398</td>\n",
       "      <td>2054.706961</td>\n",
       "      <td>4</td>\n",
       "      <td>4</td>\n",
       "      <td>2</td>\n",
       "      <td>4</td>\n",
       "      <td>4</td>\n",
       "      <td>3</td>\n",
       "      <td>3</td>\n",
       "      <td>3</td>\n",
       "    </tr>\n",
       "    <tr>\n",
       "      <th>3</th>\n",
       "      <td>4</td>\n",
       "      <td>D90850</td>\n",
       "      <td>abfa2b40-2d43-4994-b15a-989b8c79e311</td>\n",
       "      <td>Del Mar</td>\n",
       "      <td>CA</td>\n",
       "      <td>San Diego</td>\n",
       "      <td>92014</td>\n",
       "      <td>32.96687</td>\n",
       "      <td>-117.24798</td>\n",
       "      <td>13863</td>\n",
       "      <td>Suburban</td>\n",
       "      <td>America/Los_Angeles</td>\n",
       "      <td>Solicitor</td>\n",
       "      <td>1.0</td>\n",
       "      <td>48.0</td>\n",
       "      <td>20</td>\n",
       "      <td>Retired</td>\n",
       "      <td>18925.23</td>\n",
       "      <td>Married</td>\n",
       "      <td>Male</td>\n",
       "      <td>No</td>\n",
       "      <td>15.206193</td>\n",
       "      <td>15</td>\n",
       "      <td>2</td>\n",
       "      <td>0</td>\n",
       "      <td>Yes</td>\n",
       "      <td>Two Year</td>\n",
       "      <td>No</td>\n",
       "      <td>No</td>\n",
       "      <td>DSL</td>\n",
       "      <td>Yes</td>\n",
       "      <td>No</td>\n",
       "      <td>Yes</td>\n",
       "      <td>No</td>\n",
       "      <td>No</td>\n",
       "      <td>No</td>\n",
       "      <td>Yes</td>\n",
       "      <td>No</td>\n",
       "      <td>Yes</td>\n",
       "      <td>Mailed Check</td>\n",
       "      <td>17.087227</td>\n",
       "      <td>120.249493</td>\n",
       "      <td>2164.579412</td>\n",
       "      <td>4</td>\n",
       "      <td>4</td>\n",
       "      <td>4</td>\n",
       "      <td>2</td>\n",
       "      <td>5</td>\n",
       "      <td>4</td>\n",
       "      <td>3</td>\n",
       "      <td>3</td>\n",
       "    </tr>\n",
       "    <tr>\n",
       "      <th>4</th>\n",
       "      <td>5</td>\n",
       "      <td>K662701</td>\n",
       "      <td>68a861fd-0d20-4e51-a587-8a90407ee574</td>\n",
       "      <td>Needville</td>\n",
       "      <td>TX</td>\n",
       "      <td>Fort Bend</td>\n",
       "      <td>77461</td>\n",
       "      <td>29.38012</td>\n",
       "      <td>-95.80673</td>\n",
       "      <td>11352</td>\n",
       "      <td>Suburban</td>\n",
       "      <td>America/Chicago</td>\n",
       "      <td>Medical illustrator</td>\n",
       "      <td>0.0</td>\n",
       "      <td>83.0</td>\n",
       "      <td>18</td>\n",
       "      <td>Student</td>\n",
       "      <td>40074.19</td>\n",
       "      <td>Separated</td>\n",
       "      <td>Male</td>\n",
       "      <td>Yes</td>\n",
       "      <td>8.960316</td>\n",
       "      <td>16</td>\n",
       "      <td>2</td>\n",
       "      <td>1</td>\n",
       "      <td>No</td>\n",
       "      <td>Month-to-month</td>\n",
       "      <td>Yes</td>\n",
       "      <td>No</td>\n",
       "      <td>Fiber Optic</td>\n",
       "      <td>No</td>\n",
       "      <td>No</td>\n",
       "      <td>No</td>\n",
       "      <td>No</td>\n",
       "      <td>No</td>\n",
       "      <td>Yes</td>\n",
       "      <td>Yes</td>\n",
       "      <td>No</td>\n",
       "      <td>No</td>\n",
       "      <td>Mailed Check</td>\n",
       "      <td>1.670972</td>\n",
       "      <td>150.761216</td>\n",
       "      <td>271.493436</td>\n",
       "      <td>4</td>\n",
       "      <td>4</td>\n",
       "      <td>4</td>\n",
       "      <td>3</td>\n",
       "      <td>4</td>\n",
       "      <td>4</td>\n",
       "      <td>4</td>\n",
       "      <td>5</td>\n",
       "    </tr>\n",
       "  </tbody>\n",
       "</table>\n",
       "</div>"
      ],
      "text/plain": [
       "   CaseOrder Customer_id                           Interaction         City  \\\n",
       "0          1     K409198  aa90260b-4141-4a24-8e36-b04ce1f4f77b  Point Baker   \n",
       "1          2     S120509  fb76459f-c047-4a9d-8af9-e0f7d4ac2524  West Branch   \n",
       "2          3     K191035  344d114c-3736-4be5-98f7-c72c281e2d35      Yamhill   \n",
       "3          4      D90850  abfa2b40-2d43-4994-b15a-989b8c79e311      Del Mar   \n",
       "4          5     K662701  68a861fd-0d20-4e51-a587-8a90407ee574    Needville   \n",
       "\n",
       "  State                 County    Zip       Lat        Lng  Population  \\\n",
       "0    AK  Prince of Wales-Hyder  99927  56.25100 -133.37571          38   \n",
       "1    MI                 Ogemaw  48661  44.32893  -84.24080       10446   \n",
       "2    OR                Yamhill  97148  45.35589 -123.24657        3735   \n",
       "3    CA              San Diego  92014  32.96687 -117.24798       13863   \n",
       "4    TX              Fort Bend  77461  29.38012  -95.80673       11352   \n",
       "\n",
       "       Area             Timezone                                Job  Children  \\\n",
       "0     Urban        America/Sitka  Environmental health practitioner       NaN   \n",
       "1     Urban      America/Detroit             Programmer, multimedia       1.0   \n",
       "2     Urban  America/Los_Angeles            Chief Financial Officer       4.0   \n",
       "3  Suburban  America/Los_Angeles                          Solicitor       1.0   \n",
       "4  Suburban      America/Chicago                Medical illustrator       0.0   \n",
       "\n",
       "    Age  Education Employment    Income    Marital  Gender Churn  \\\n",
       "0  68.0         18  Part Time  28561.99    Widowed    Male    No   \n",
       "1  27.0         12    Retired  21704.77    Married  Female   Yes   \n",
       "2  50.0         12    Student       NaN    Widowed  Female    No   \n",
       "3  48.0         20    Retired  18925.23    Married    Male    No   \n",
       "4  83.0         18    Student  40074.19  Separated    Male   Yes   \n",
       "\n",
       "   Outage_sec_perweek  Email  Contacts  Yearly_equip_failure Techie  \\\n",
       "0            6.972566     10         0                     1     No   \n",
       "1           12.014541     12         0                     1    Yes   \n",
       "2           10.245616      9         0                     1    Yes   \n",
       "3           15.206193     15         2                     0    Yes   \n",
       "4            8.960316     16         2                     1     No   \n",
       "\n",
       "         Contract Port_modem Tablet InternetService Phone Multiple  \\\n",
       "0        One year        Yes    Yes     Fiber Optic   Yes       No   \n",
       "1  Month-to-month         No    Yes     Fiber Optic   Yes      Yes   \n",
       "2        Two Year        Yes     No             DSL   Yes      Yes   \n",
       "3        Two Year         No     No             DSL   Yes       No   \n",
       "4  Month-to-month        Yes     No     Fiber Optic    No       No   \n",
       "\n",
       "  OnlineSecurity OnlineBackup DeviceProtection TechSupport StreamingTV  \\\n",
       "0            Yes          Yes               No          No          No   \n",
       "1            Yes           No               No          No         Yes   \n",
       "2             No           No               No          No          No   \n",
       "3            Yes           No               No          No         Yes   \n",
       "4             No           No               No         Yes         Yes   \n",
       "\n",
       "  StreamingMovies PaperlessBilling             PaymentMethod     Tenure  \\\n",
       "0             Yes              Yes   Credit Card (automatic)   6.795513   \n",
       "1             Yes              Yes  Bank Transfer(automatic)   1.156681   \n",
       "2             Yes              Yes   Credit Card (automatic)  15.754144   \n",
       "3              No              Yes              Mailed Check  17.087227   \n",
       "4              No               No              Mailed Check   1.670972   \n",
       "\n",
       "   MonthlyCharge  Bandwidth_GB_Year  Timely response  Timely fixes  \\\n",
       "0     171.449762         904.536110                5             5   \n",
       "1     242.948015         800.982766                3             4   \n",
       "2     159.440398        2054.706961                4             4   \n",
       "3     120.249493        2164.579412                4             4   \n",
       "4     150.761216         271.493436                4             4   \n",
       "\n",
       "   Timely replacements  Reliability  Options  Respectful response  \\\n",
       "0                    5            3        4                    4   \n",
       "1                    3            3        4                    3   \n",
       "2                    2            4        4                    3   \n",
       "3                    4            2        5                    4   \n",
       "4                    4            3        4                    4   \n",
       "\n",
       "   Courteous exchange  Evidence of active listening  \n",
       "0                   3                             4  \n",
       "1                   4                             4  \n",
       "2                   3                             3  \n",
       "3                   3                             3  \n",
       "4                   4                             5  "
      ]
     },
     "execution_count": 24,
     "metadata": {},
     "output_type": "execute_result"
    }
   ],
   "source": [
    "# display data set with Re-Expressioned 'Education' column\n",
    "df.head()"
   ]
  },
  {
   "cell_type": "markdown",
   "id": "21479fdf",
   "metadata": {},
   "source": [
    "#### Identify Missing Values"
   ]
  },
  {
   "cell_type": "code",
   "execution_count": 25,
   "id": "aff8f580",
   "metadata": {},
   "outputs": [
    {
     "data": {
      "text/html": [
       "<div>\n",
       "<style scoped>\n",
       "    .dataframe tbody tr th:only-of-type {\n",
       "        vertical-align: middle;\n",
       "    }\n",
       "\n",
       "    .dataframe tbody tr th {\n",
       "        vertical-align: top;\n",
       "    }\n",
       "\n",
       "    .dataframe thead th {\n",
       "        text-align: right;\n",
       "    }\n",
       "</style>\n",
       "<table border=\"1\" class=\"dataframe\">\n",
       "  <thead>\n",
       "    <tr style=\"text-align: right;\">\n",
       "      <th></th>\n",
       "      <th>Children</th>\n",
       "      <th>Age</th>\n",
       "      <th>Income</th>\n",
       "      <th>Techie</th>\n",
       "      <th>Phone</th>\n",
       "      <th>TechSupport</th>\n",
       "      <th>Tenure</th>\n",
       "      <th>Bandwidth_GB_Year</th>\n",
       "    </tr>\n",
       "  </thead>\n",
       "  <tbody>\n",
       "    <tr>\n",
       "      <th>0</th>\n",
       "      <td>NaN</td>\n",
       "      <td>68.0</td>\n",
       "      <td>28561.99</td>\n",
       "      <td>No</td>\n",
       "      <td>Yes</td>\n",
       "      <td>No</td>\n",
       "      <td>6.795513</td>\n",
       "      <td>904.536110</td>\n",
       "    </tr>\n",
       "    <tr>\n",
       "      <th>1</th>\n",
       "      <td>1.0</td>\n",
       "      <td>27.0</td>\n",
       "      <td>21704.77</td>\n",
       "      <td>Yes</td>\n",
       "      <td>Yes</td>\n",
       "      <td>No</td>\n",
       "      <td>1.156681</td>\n",
       "      <td>800.982766</td>\n",
       "    </tr>\n",
       "    <tr>\n",
       "      <th>2</th>\n",
       "      <td>4.0</td>\n",
       "      <td>50.0</td>\n",
       "      <td>NaN</td>\n",
       "      <td>Yes</td>\n",
       "      <td>Yes</td>\n",
       "      <td>No</td>\n",
       "      <td>15.754144</td>\n",
       "      <td>2054.706961</td>\n",
       "    </tr>\n",
       "    <tr>\n",
       "      <th>3</th>\n",
       "      <td>1.0</td>\n",
       "      <td>48.0</td>\n",
       "      <td>18925.23</td>\n",
       "      <td>Yes</td>\n",
       "      <td>Yes</td>\n",
       "      <td>No</td>\n",
       "      <td>17.087227</td>\n",
       "      <td>2164.579412</td>\n",
       "    </tr>\n",
       "    <tr>\n",
       "      <th>4</th>\n",
       "      <td>0.0</td>\n",
       "      <td>83.0</td>\n",
       "      <td>40074.19</td>\n",
       "      <td>No</td>\n",
       "      <td>No</td>\n",
       "      <td>Yes</td>\n",
       "      <td>1.670972</td>\n",
       "      <td>271.493436</td>\n",
       "    </tr>\n",
       "    <tr>\n",
       "      <th>...</th>\n",
       "      <td>...</td>\n",
       "      <td>...</td>\n",
       "      <td>...</td>\n",
       "      <td>...</td>\n",
       "      <td>...</td>\n",
       "      <td>...</td>\n",
       "      <td>...</td>\n",
       "      <td>...</td>\n",
       "    </tr>\n",
       "    <tr>\n",
       "      <th>9995</th>\n",
       "      <td>3.0</td>\n",
       "      <td>NaN</td>\n",
       "      <td>55723.74</td>\n",
       "      <td>NaN</td>\n",
       "      <td>NaN</td>\n",
       "      <td>No</td>\n",
       "      <td>68.197130</td>\n",
       "      <td>6511.253000</td>\n",
       "    </tr>\n",
       "    <tr>\n",
       "      <th>9996</th>\n",
       "      <td>4.0</td>\n",
       "      <td>48.0</td>\n",
       "      <td>NaN</td>\n",
       "      <td>NaN</td>\n",
       "      <td>NaN</td>\n",
       "      <td>No</td>\n",
       "      <td>61.040370</td>\n",
       "      <td>5695.952000</td>\n",
       "    </tr>\n",
       "    <tr>\n",
       "      <th>9997</th>\n",
       "      <td>NaN</td>\n",
       "      <td>NaN</td>\n",
       "      <td>NaN</td>\n",
       "      <td>No</td>\n",
       "      <td>Yes</td>\n",
       "      <td>No</td>\n",
       "      <td>NaN</td>\n",
       "      <td>4159.306000</td>\n",
       "    </tr>\n",
       "    <tr>\n",
       "      <th>9998</th>\n",
       "      <td>1.0</td>\n",
       "      <td>39.0</td>\n",
       "      <td>16667.58</td>\n",
       "      <td>No</td>\n",
       "      <td>No</td>\n",
       "      <td>Yes</td>\n",
       "      <td>71.095600</td>\n",
       "      <td>6468.457000</td>\n",
       "    </tr>\n",
       "    <tr>\n",
       "      <th>9999</th>\n",
       "      <td>1.0</td>\n",
       "      <td>28.0</td>\n",
       "      <td>NaN</td>\n",
       "      <td>NaN</td>\n",
       "      <td>Yes</td>\n",
       "      <td>No</td>\n",
       "      <td>63.350860</td>\n",
       "      <td>5857.586000</td>\n",
       "    </tr>\n",
       "  </tbody>\n",
       "</table>\n",
       "<p>10000 rows × 8 columns</p>\n",
       "</div>"
      ],
      "text/plain": [
       "      Children   Age    Income Techie Phone TechSupport     Tenure  \\\n",
       "0          NaN  68.0  28561.99     No   Yes          No   6.795513   \n",
       "1          1.0  27.0  21704.77    Yes   Yes          No   1.156681   \n",
       "2          4.0  50.0       NaN    Yes   Yes          No  15.754144   \n",
       "3          1.0  48.0  18925.23    Yes   Yes          No  17.087227   \n",
       "4          0.0  83.0  40074.19     No    No         Yes   1.670972   \n",
       "...        ...   ...       ...    ...   ...         ...        ...   \n",
       "9995       3.0   NaN  55723.74    NaN   NaN          No  68.197130   \n",
       "9996       4.0  48.0       NaN    NaN   NaN          No  61.040370   \n",
       "9997       NaN   NaN       NaN     No   Yes          No        NaN   \n",
       "9998       1.0  39.0  16667.58     No    No         Yes  71.095600   \n",
       "9999       1.0  28.0       NaN    NaN   Yes          No  63.350860   \n",
       "\n",
       "      Bandwidth_GB_Year  \n",
       "0            904.536110  \n",
       "1            800.982766  \n",
       "2           2054.706961  \n",
       "3           2164.579412  \n",
       "4            271.493436  \n",
       "...                 ...  \n",
       "9995        6511.253000  \n",
       "9996        5695.952000  \n",
       "9997        4159.306000  \n",
       "9998        6468.457000  \n",
       "9999        5857.586000  \n",
       "\n",
       "[10000 rows x 8 columns]"
      ]
     },
     "execution_count": 25,
     "metadata": {},
     "output_type": "execute_result"
    }
   ],
   "source": [
    "# Identify and isolate the columns with null \n",
    "df.loc[:,df.isnull().any()]"
   ]
  },
  {
   "cell_type": "code",
   "execution_count": 26,
   "id": "35ecdd14",
   "metadata": {},
   "outputs": [
    {
     "data": {
      "text/plain": [
       "CaseOrder                          0\n",
       "Customer_id                        0\n",
       "Interaction                        0\n",
       "City                               0\n",
       "State                              0\n",
       "County                             0\n",
       "Zip                                0\n",
       "Lat                                0\n",
       "Lng                                0\n",
       "Population                         0\n",
       "Area                               0\n",
       "Timezone                           0\n",
       "Job                                0\n",
       "Children                        2495\n",
       "Age                             2475\n",
       "Education                          0\n",
       "Employment                         0\n",
       "Income                          2490\n",
       "Marital                            0\n",
       "Gender                             0\n",
       "Churn                              0\n",
       "Outage_sec_perweek                 0\n",
       "Email                              0\n",
       "Contacts                           0\n",
       "Yearly_equip_failure               0\n",
       "Techie                          2477\n",
       "Contract                           0\n",
       "Port_modem                         0\n",
       "Tablet                             0\n",
       "InternetService                    0\n",
       "Phone                           1026\n",
       "Multiple                           0\n",
       "OnlineSecurity                     0\n",
       "OnlineBackup                       0\n",
       "DeviceProtection                   0\n",
       "TechSupport                      991\n",
       "StreamingTV                        0\n",
       "StreamingMovies                    0\n",
       "PaperlessBilling                   0\n",
       "PaymentMethod                      0\n",
       "Tenure                           931\n",
       "MonthlyCharge                      0\n",
       "Bandwidth_GB_Year               1021\n",
       "Timely response                    0\n",
       "Timely fixes                       0\n",
       "Timely replacements                0\n",
       "Reliability                        0\n",
       "Options                            0\n",
       "Respectful response                0\n",
       "Courteous exchange                 0\n",
       "Evidence of active listening       0\n",
       "dtype: int64"
      ]
     },
     "execution_count": 26,
     "metadata": {},
     "output_type": "execute_result"
    }
   ],
   "source": [
    "# Count of missing values per columns\n",
    "df.isna().sum()"
   ]
  },
  {
   "cell_type": "markdown",
   "id": "02cb346d",
   "metadata": {},
   "source": [
    "#### Change Misleading Field Values\n",
    "##### Limitations: replacing missing value can cause the data set to be inflated as I am trying to impose what could be the accurate value\n",
    "* Children: Customer might have chosen not to tell the actual number of children they have due to privacy concerns\n",
    "* Phone: Customer might have chosen not to list their phone number due to privacy concerns.\n",
    "* Techie: This could have been left out a human error.\n",
    "* TechSupport: This could a human error, someone might not have entered appropriate values assuming 'No' and '' are the same."
   ]
  },
  {
   "cell_type": "code",
   "execution_count": 27,
   "id": "fdae86f2",
   "metadata": {},
   "outputs": [],
   "source": [
    "# Replace the NAN in Childern column with 0 as it already has 0 value for people with no childern.\n",
    "df['Children']=df['Children'].replace({np.NaN:0})"
   ]
  },
  {
   "cell_type": "code",
   "execution_count": 28,
   "id": "3c8a221a",
   "metadata": {},
   "outputs": [],
   "source": [
    "# Replace the NAN in Phone column with No, as either a person has a phone or they do not\n",
    "df['Phone']=df['Phone'].replace({np.NaN:\"No\"})"
   ]
  },
  {
   "cell_type": "code",
   "execution_count": 29,
   "id": "2e64691a",
   "metadata": {},
   "outputs": [],
   "source": [
    "# Replace the NAN in Techie column with No\n",
    "df['Techie']=df['Techie'].replace({np.NaN:\"No\"})"
   ]
  },
  {
   "cell_type": "code",
   "execution_count": 30,
   "id": "2a901366",
   "metadata": {},
   "outputs": [],
   "source": [
    "# Replace the NAN in TechSupport column with No\n",
    "df['TechSupport']=df['TechSupport'].replace({np.NaN:\"No\"})"
   ]
  },
  {
   "cell_type": "markdown",
   "id": "dbf5493f",
   "metadata": {},
   "source": [
    "#### Identify Missing Numeric Values"
   ]
  },
  {
   "cell_type": "code",
   "execution_count": 31,
   "id": "2dfebb1f",
   "metadata": {},
   "outputs": [
    {
     "data": {
      "text/plain": [
       "2475"
      ]
     },
     "execution_count": 31,
     "metadata": {},
     "output_type": "execute_result"
    }
   ],
   "source": [
    "# Identify missing data in Age column\n",
    "df[\"Age\"].isnull().sum()"
   ]
  },
  {
   "cell_type": "code",
   "execution_count": 32,
   "id": "601dfbf5",
   "metadata": {},
   "outputs": [
    {
     "data": {
      "text/plain": [
       "0       68.0\n",
       "1       27.0\n",
       "2       50.0\n",
       "3       48.0\n",
       "4       83.0\n",
       "        ... \n",
       "9995     NaN\n",
       "9996    48.0\n",
       "9997     NaN\n",
       "9998    39.0\n",
       "9999    28.0\n",
       "Name: Age, Length: 10000, dtype: float64"
      ]
     },
     "execution_count": 32,
     "metadata": {},
     "output_type": "execute_result"
    }
   ],
   "source": [
    "#list out all values including null\n",
    "df[\"Age\"]"
   ]
  },
  {
   "cell_type": "code",
   "execution_count": 33,
   "id": "89fdc69a",
   "metadata": {},
   "outputs": [
    {
     "data": {
      "text/plain": [
       "<AxesSubplot:ylabel='Frequency'>"
      ]
     },
     "execution_count": 33,
     "metadata": {},
     "output_type": "execute_result"
    },
    {
     "data": {
      "image/png": "[encoded data removed]",
      "text/plain": [
       "<Figure size 432x288 with 1 Axes>"
      ]
     },
     "metadata": {
      "needs_background": "light"
     },
     "output_type": "display_data"
    }
   ],
   "source": [
    "#Plot Age distribution\n",
    "df[\"Age\"].plot.hist()"
   ]
  },
  {
   "cell_type": "code",
   "execution_count": 34,
   "id": "9dc26761",
   "metadata": {},
   "outputs": [
    {
     "data": {
      "text/plain": [
       "2490"
      ]
     },
     "execution_count": 34,
     "metadata": {},
     "output_type": "execute_result"
    }
   ],
   "source": [
    "# Identify missing data in Income column\n",
    "df[\"Income\"].isnull().sum()"
   ]
  },
  {
   "cell_type": "code",
   "execution_count": 35,
   "id": "556fd2ac",
   "metadata": {
    "scrolled": true
   },
   "outputs": [
    {
     "data": {
      "text/plain": [
       "0       28561.99\n",
       "1       21704.77\n",
       "2            NaN\n",
       "3       18925.23\n",
       "4       40074.19\n",
       "          ...   \n",
       "9995    55723.74\n",
       "9996         NaN\n",
       "9997         NaN\n",
       "9998    16667.58\n",
       "9999         NaN\n",
       "Name: Income, Length: 10000, dtype: float64"
      ]
     },
     "execution_count": 35,
     "metadata": {},
     "output_type": "execute_result"
    }
   ],
   "source": [
    "#list out all values including null\n",
    "df[\"Income\"]"
   ]
  },
  {
   "cell_type": "code",
   "execution_count": 36,
   "id": "604c0515",
   "metadata": {},
   "outputs": [
    {
     "data": {
      "text/plain": [
       "<AxesSubplot:ylabel='Frequency'>"
      ]
     },
     "execution_count": 36,
     "metadata": {},
     "output_type": "execute_result"
    },
    {
     "data": {
      "image/png": "[encoded data removed]",
      "text/plain": [
       "<Figure size 432x288 with 1 Axes>"
      ]
     },
     "metadata": {
      "needs_background": "light"
     },
     "output_type": "display_data"
    }
   ],
   "source": [
    "#Plot Income distribution\n",
    "df[\"Income\"].plot.hist()"
   ]
  },
  {
   "cell_type": "code",
   "execution_count": 37,
   "id": "4db98913",
   "metadata": {},
   "outputs": [
    {
     "data": {
      "text/plain": [
       "931"
      ]
     },
     "execution_count": 37,
     "metadata": {},
     "output_type": "execute_result"
    }
   ],
   "source": [
    "# Identify missing data in Tenure column\n",
    "df[\"Tenure\"].isnull().sum()"
   ]
  },
  {
   "cell_type": "code",
   "execution_count": 38,
   "id": "5f77dc87",
   "metadata": {},
   "outputs": [
    {
     "data": {
      "text/plain": [
       "0        6.795513\n",
       "1        1.156681\n",
       "2       15.754144\n",
       "3       17.087227\n",
       "4        1.670972\n",
       "          ...    \n",
       "9995    68.197130\n",
       "9996    61.040370\n",
       "9997          NaN\n",
       "9998    71.095600\n",
       "9999    63.350860\n",
       "Name: Tenure, Length: 10000, dtype: float64"
      ]
     },
     "execution_count": 38,
     "metadata": {},
     "output_type": "execute_result"
    }
   ],
   "source": [
    "# Identify missing data in Tenure column\n",
    "df[\"Tenure\"]"
   ]
  },
  {
   "cell_type": "code",
   "execution_count": 39,
   "id": "9516dffd",
   "metadata": {},
   "outputs": [
    {
     "data": {
      "text/plain": [
       "<AxesSubplot:ylabel='Frequency'>"
      ]
     },
     "execution_count": 39,
     "metadata": {},
     "output_type": "execute_result"
    },
    {
     "data": {
      "image/png": "[encoded data removed]",
      "text/plain": [
       "<Figure size 432x288 with 1 Axes>"
      ]
     },
     "metadata": {
      "needs_background": "light"
     },
     "output_type": "display_data"
    }
   ],
   "source": [
    "#Plot Tenure distribution\n",
    "df[\"Tenure\"].plot.hist()"
   ]
  },
  {
   "cell_type": "code",
   "execution_count": 40,
   "id": "1e04cf4c",
   "metadata": {},
   "outputs": [
    {
     "data": {
      "text/plain": [
       "1021"
      ]
     },
     "execution_count": 40,
     "metadata": {},
     "output_type": "execute_result"
    }
   ],
   "source": [
    "# Identify missing data in Bandwidth_GB_Year column\n",
    "df[\"Bandwidth_GB_Year\"].isnull().sum()"
   ]
  },
  {
   "cell_type": "code",
   "execution_count": 41,
   "id": "c0b3efa6",
   "metadata": {},
   "outputs": [
    {
     "data": {
      "text/plain": [
       "0        904.536110\n",
       "1        800.982766\n",
       "2       2054.706961\n",
       "3       2164.579412\n",
       "4        271.493436\n",
       "           ...     \n",
       "9995    6511.253000\n",
       "9996    5695.952000\n",
       "9997    4159.306000\n",
       "9998    6468.457000\n",
       "9999    5857.586000\n",
       "Name: Bandwidth_GB_Year, Length: 10000, dtype: float64"
      ]
     },
     "execution_count": 41,
     "metadata": {},
     "output_type": "execute_result"
    }
   ],
   "source": [
    "# Identify missing data in Bandwidth_GB_Year column\n",
    "df[\"Bandwidth_GB_Year\"]"
   ]
  },
  {
   "cell_type": "code",
   "execution_count": 42,
   "id": "c5ad15b2",
   "metadata": {},
   "outputs": [
    {
     "data": {
      "text/plain": [
       "<AxesSubplot:ylabel='Frequency'>"
      ]
     },
     "execution_count": 42,
     "metadata": {},
     "output_type": "execute_result"
    },
    {
     "data": {
      "image/png": "[encoded data removed]",
      "text/plain": [
       "<Figure size 432x288 with 1 Axes>"
      ]
     },
     "metadata": {
      "needs_background": "light"
     },
     "output_type": "display_data"
    }
   ],
   "source": [
    "#Plot Bandwidth_GB_Year distribution\n",
    "df[\"Bandwidth_GB_Year\"].plot.hist()"
   ]
  },
  {
   "cell_type": "markdown",
   "id": "69344a89",
   "metadata": {},
   "source": [
    "#### Replace Missing Numeric Values with Median becuase the distrution of data is skewed as displayed above.\n",
    "##### This is a robust measure that is not strongly influenced by the outliers"
   ]
  },
  {
   "cell_type": "code",
   "execution_count": 43,
   "id": "8ecfede0",
   "metadata": {},
   "outputs": [],
   "source": [
    "# Fill in the NAN in age with median\n",
    "df[\"Age\"].fillna(df[\"Age\"].median(), inplace=True)"
   ]
  },
  {
   "cell_type": "code",
   "execution_count": 44,
   "id": "de5a6914",
   "metadata": {},
   "outputs": [],
   "source": [
    "# Fill in the NAN in income with median\n",
    "df[\"Income\"].fillna(df[\"Income\"].median(), inplace=True)"
   ]
  },
  {
   "cell_type": "code",
   "execution_count": 45,
   "id": "c79f5cae",
   "metadata": {},
   "outputs": [],
   "source": [
    "#Fill in the NAN in Tenure with median\n",
    "df[\"Tenure\"].fillna(df[\"Tenure\"].median(), inplace=True)"
   ]
  },
  {
   "cell_type": "code",
   "execution_count": 46,
   "id": "fc39c86f",
   "metadata": {},
   "outputs": [],
   "source": [
    "# Fill in the NAN in Bandwidth_GB_Year with median\n",
    "df[\"Bandwidth_GB_Year\"].fillna(df[\"Bandwidth_GB_Year\"].median(), inplace=True)"
   ]
  },
  {
   "cell_type": "code",
   "execution_count": 47,
   "id": "5b905484",
   "metadata": {
    "scrolled": true
   },
   "outputs": [
    {
     "data": {
      "text/plain": [
       "CaseOrder                       False\n",
       "Customer_id                     False\n",
       "Interaction                     False\n",
       "City                            False\n",
       "State                           False\n",
       "County                          False\n",
       "Zip                             False\n",
       "Lat                             False\n",
       "Lng                             False\n",
       "Population                      False\n",
       "Area                            False\n",
       "Timezone                        False\n",
       "Job                             False\n",
       "Children                        False\n",
       "Age                             False\n",
       "Education                       False\n",
       "Employment                      False\n",
       "Income                          False\n",
       "Marital                         False\n",
       "Gender                          False\n",
       "Churn                           False\n",
       "Outage_sec_perweek              False\n",
       "Email                           False\n",
       "Contacts                        False\n",
       "Yearly_equip_failure            False\n",
       "Techie                          False\n",
       "Contract                        False\n",
       "Port_modem                      False\n",
       "Tablet                          False\n",
       "InternetService                 False\n",
       "Phone                           False\n",
       "Multiple                        False\n",
       "OnlineSecurity                  False\n",
       "OnlineBackup                    False\n",
       "DeviceProtection                False\n",
       "TechSupport                     False\n",
       "StreamingTV                     False\n",
       "StreamingMovies                 False\n",
       "PaperlessBilling                False\n",
       "PaymentMethod                   False\n",
       "Tenure                          False\n",
       "MonthlyCharge                   False\n",
       "Bandwidth_GB_Year               False\n",
       "Timely response                 False\n",
       "Timely fixes                    False\n",
       "Timely replacements             False\n",
       "Reliability                     False\n",
       "Options                         False\n",
       "Respectful response             False\n",
       "Courteous exchange              False\n",
       "Evidence of active listening    False\n",
       "dtype: bool"
      ]
     },
     "execution_count": 47,
     "metadata": {},
     "output_type": "execute_result"
    }
   ],
   "source": [
    "# Validate all the null values have been replaced \n",
    "df.isnull().any()"
   ]
  },
  {
   "cell_type": "markdown",
   "id": "21a06eee",
   "metadata": {},
   "source": [
    "### Cleaned data set"
   ]
  },
  {
   "cell_type": "code",
   "execution_count": 48,
   "id": "fdd81b69",
   "metadata": {},
   "outputs": [],
   "source": [
    "# Cleaned data set\n",
    "df.to_csv('Cleaned_Data_set.csv')"
   ]
  },
  {
   "cell_type": "markdown",
   "id": "ef78f801",
   "metadata": {},
   "source": [
    "#### Outliers"
   ]
  },
  {
   "cell_type": "code",
   "execution_count": 49,
   "id": "76d8d4b6",
   "metadata": {},
   "outputs": [],
   "source": [
    "# Change sns settings \n",
    "sns.set(rc={'figure.figsize':(30,11)}, font_scale=1.5, style='whitegrid')"
   ]
  },
  {
   "cell_type": "code",
   "execution_count": 50,
   "id": "6454afec",
   "metadata": {},
   "outputs": [
    {
     "data": {
      "text/plain": [
       "<AxesSubplot:>"
      ]
     },
     "execution_count": 50,
     "metadata": {},
     "output_type": "execute_result"
    },
    {
     "data": {
      "image/png": "[encoded data removed]",
      "text/plain": [
       "<Figure size 2160x792 with 1 Axes>"
      ]
     },
     "metadata": {},
     "output_type": "display_data"
    }
   ],
   "source": [
    "# Quick look to see which columns have outliers\n",
    "df.boxplot()"
   ]
  },
  {
   "cell_type": "code",
   "execution_count": 51,
   "id": "63890baa",
   "metadata": {},
   "outputs": [
    {
     "data": {
      "text/plain": [
       "<AxesSubplot:>"
      ]
     },
     "execution_count": 51,
     "metadata": {},
     "output_type": "execute_result"
    },
    {
     "data": {
      "image/png": "[encoded data removed]",
      "text/plain": [
       "<Figure size 2160x792 with 1 Axes>"
      ]
     },
     "metadata": {},
     "output_type": "display_data"
    }
   ],
   "source": [
    "# Box plot of all the columns with outliers\n",
    "df.boxplot(['Population', 'Income'])"
   ]
  },
  {
   "cell_type": "markdown",
   "id": "2b218674",
   "metadata": {},
   "source": [
    "##### Investigate Outliers in the Income column"
   ]
  },
  {
   "cell_type": "code",
   "execution_count": 52,
   "id": "50d4e33c",
   "metadata": {},
   "outputs": [
    {
     "data": {
      "text/plain": [
       "<AxesSubplot:>"
      ]
     },
     "execution_count": 52,
     "metadata": {},
     "output_type": "execute_result"
    },
    {
     "data": {
      "image/png": "[encoded data removed]",
      "text/plain": [
       "<Figure size 2160x792 with 1 Axes>"
      ]
     },
     "metadata": {},
     "output_type": "display_data"
    }
   ],
   "source": [
    "# Using box plot plot to identify outliers\n",
    "Income = df['Income']\n",
    "Income.plot.box()"
   ]
  },
  {
   "cell_type": "code",
   "execution_count": 53,
   "id": "d6df4e83",
   "metadata": {},
   "outputs": [
    {
     "data": {
      "text/plain": [
       "<AxesSubplot:title={'center':'Income Histogram'}, ylabel='Frequency'>"
      ]
     },
     "execution_count": 53,
     "metadata": {},
     "output_type": "execute_result"
    },
    {
     "data": {
      "image/png": "[encoded data removed]",
      "text/plain": [
       "<Figure size 2160x792 with 1 Axes>"
      ]
     },
     "metadata": {},
     "output_type": "display_data"
    }
   ],
   "source": [
    "# Investigate distribution of Income column using histogram\n",
    "df[\"Income\"].plot(kind = \"hist\", title = 'Income Histogram')"
   ]
  },
  {
   "cell_type": "code",
   "execution_count": 54,
   "id": "7cfac288",
   "metadata": {},
   "outputs": [],
   "source": [
    "# Create a new column with standarized Income values\n",
    "df[\"Income_z\"] = stats.zscore(df[\"Income\"])"
   ]
  },
  {
   "cell_type": "code",
   "execution_count": 56,
   "id": "8ccd1ad9",
   "metadata": {},
   "outputs": [],
   "source": [
    "# Based on the z score isolate the outliers\n",
    "df_income_outliers = df.query('Income_z > 3 | Income_z < -3')"
   ]
  },
  {
   "cell_type": "code",
   "execution_count": 57,
   "id": "cfb21b6b",
   "metadata": {},
   "outputs": [],
   "source": [
    "# Create a new data set for the outliers and sort it in descending order\n",
    "df_income_outliers_sort_values = df_income_outliers.sort_values(['Income_z'], ascending = False)"
   ]
  },
  {
   "cell_type": "code",
   "execution_count": 58,
   "id": "12cfde45",
   "metadata": {},
   "outputs": [
    {
     "data": {
      "text/plain": [
       "4249    258900.7\n",
       "9180    256998.4\n",
       "5801    212255.3\n",
       "6837    194550.7\n",
       "3985    189938.4\n",
       "Name: Income, dtype: float64"
      ]
     },
     "execution_count": 58,
     "metadata": {},
     "output_type": "execute_result"
    }
   ],
   "source": [
    "# List out the outliers\n",
    "df_income_outliers_sort_values['Income'].head()"
   ]
  },
  {
   "cell_type": "markdown",
   "id": "145c870f",
   "metadata": {},
   "source": [
    "##### Investigate Outliers in the Population column"
   ]
  },
  {
   "cell_type": "code",
   "execution_count": 59,
   "id": "ca32fb6c",
   "metadata": {},
   "outputs": [
    {
     "data": {
      "text/plain": [
       "<AxesSubplot:>"
      ]
     },
     "execution_count": 59,
     "metadata": {},
     "output_type": "execute_result"
    },
    {
     "data": {
      "image/png": "[encoded data removed]",
      "text/plain": [
       "<Figure size 2160x792 with 1 Axes>"
      ]
     },
     "metadata": {},
     "output_type": "display_data"
    }
   ],
   "source": [
    "# Using box plot plot to identify outliers\n",
    "Population = df['Population']\n",
    "Population.plot.box()"
   ]
  },
  {
   "cell_type": "code",
   "execution_count": 60,
   "id": "81495a07",
   "metadata": {},
   "outputs": [
    {
     "data": {
      "text/plain": [
       "<AxesSubplot:title={'center':'Population Histogram'}, ylabel='Frequency'>"
      ]
     },
     "execution_count": 60,
     "metadata": {},
     "output_type": "execute_result"
    },
    {
     "data": {
      "image/png": "[encoded data removed]",
      "text/plain": [
       "<Figure size 2160x792 with 1 Axes>"
      ]
     },
     "metadata": {},
     "output_type": "display_data"
    }
   ],
   "source": [
    "# Investigate distribution of Population column using histogram\n",
    "df[\"Population\"].plot(kind = \"hist\", title = 'Population Histogram')"
   ]
  },
  {
   "cell_type": "code",
   "execution_count": 61,
   "id": "f3d2ecca",
   "metadata": {},
   "outputs": [],
   "source": [
    "# Create a new column with standarized median values\n",
    "df[\"Population_z\"] = stats.zscore(df[\"Population\"])"
   ]
  },
  {
   "cell_type": "code",
   "execution_count": 62,
   "id": "515f34b5",
   "metadata": {},
   "outputs": [],
   "source": [
    "# Based on the z score isolate the outliers\n",
    "df_Population_outliers = df.query('Population_z > 3 | Population_z < -3')"
   ]
  },
  {
   "cell_type": "code",
   "execution_count": 63,
   "id": "e420064e",
   "metadata": {},
   "outputs": [],
   "source": [
    "# Create a new data set for the outliers and sort it in descending order\n",
    "df_Population_outliers_sort_values = df_Population_outliers.sort_values(['Population_z'], ascending = False)"
   ]
  },
  {
   "cell_type": "code",
   "execution_count": 64,
   "id": "57cf3352",
   "metadata": {},
   "outputs": [
    {
     "data": {
      "text/plain": [
       "8139    111850\n",
       "8320    103732\n",
       "6288    102433\n",
       "1775     98660\n",
       "6610     96575\n",
       "Name: Population, dtype: int64"
      ]
     },
     "execution_count": 64,
     "metadata": {},
     "output_type": "execute_result"
    }
   ],
   "source": [
    "# List out the outliers\n",
    "df_Population_outliers_sort_values['Population'].head()"
   ]
  },
  {
   "cell_type": "markdown",
   "id": "65f24400",
   "metadata": {},
   "source": [
    "#### PCA Analysis"
   ]
  },
  {
   "cell_type": "code",
   "execution_count": 65,
   "id": "eb3c66bc",
   "metadata": {},
   "outputs": [],
   "source": [
    "# Load data frame\n",
    "df = pd.read_csv('dataSet/churn_raw_data.csv', index_col=0)"
   ]
  },
  {
   "cell_type": "code",
   "execution_count": 66,
   "id": "7017424f",
   "metadata": {},
   "outputs": [
    {
     "data": {
      "text/html": [
       "<div>\n",
       "<style scoped>\n",
       "    .dataframe tbody tr th:only-of-type {\n",
       "        vertical-align: middle;\n",
       "    }\n",
       "\n",
       "    .dataframe tbody tr th {\n",
       "        vertical-align: top;\n",
       "    }\n",
       "\n",
       "    .dataframe thead th {\n",
       "        text-align: right;\n",
       "    }\n",
       "</style>\n",
       "<table border=\"1\" class=\"dataframe\">\n",
       "  <thead>\n",
       "    <tr style=\"text-align: right;\">\n",
       "      <th></th>\n",
       "      <th>CaseOrder</th>\n",
       "      <th>Customer_id</th>\n",
       "      <th>Interaction</th>\n",
       "      <th>City</th>\n",
       "      <th>State</th>\n",
       "      <th>County</th>\n",
       "      <th>Zip</th>\n",
       "      <th>Lat</th>\n",
       "      <th>Lng</th>\n",
       "      <th>Population</th>\n",
       "      <th>Area</th>\n",
       "      <th>Timezone</th>\n",
       "      <th>Job</th>\n",
       "      <th>Children</th>\n",
       "      <th>Age</th>\n",
       "      <th>Education</th>\n",
       "      <th>Employment</th>\n",
       "      <th>Income</th>\n",
       "      <th>Marital</th>\n",
       "      <th>Gender</th>\n",
       "      <th>Churn</th>\n",
       "      <th>Outage_sec_perweek</th>\n",
       "      <th>Email</th>\n",
       "      <th>Contacts</th>\n",
       "      <th>Yearly_equip_failure</th>\n",
       "      <th>Techie</th>\n",
       "      <th>Contract</th>\n",
       "      <th>Port_modem</th>\n",
       "      <th>Tablet</th>\n",
       "      <th>InternetService</th>\n",
       "      <th>Phone</th>\n",
       "      <th>Multiple</th>\n",
       "      <th>OnlineSecurity</th>\n",
       "      <th>OnlineBackup</th>\n",
       "      <th>DeviceProtection</th>\n",
       "      <th>TechSupport</th>\n",
       "      <th>StreamingTV</th>\n",
       "      <th>StreamingMovies</th>\n",
       "      <th>PaperlessBilling</th>\n",
       "      <th>PaymentMethod</th>\n",
       "      <th>Tenure</th>\n",
       "      <th>MonthlyCharge</th>\n",
       "      <th>Bandwidth_GB_Year</th>\n",
       "      <th>item1</th>\n",
       "      <th>item2</th>\n",
       "      <th>item3</th>\n",
       "      <th>item4</th>\n",
       "      <th>item5</th>\n",
       "      <th>item6</th>\n",
       "      <th>item7</th>\n",
       "      <th>item8</th>\n",
       "    </tr>\n",
       "  </thead>\n",
       "  <tbody>\n",
       "    <tr>\n",
       "      <th>1</th>\n",
       "      <td>1</td>\n",
       "      <td>K409198</td>\n",
       "      <td>aa90260b-4141-4a24-8e36-b04ce1f4f77b</td>\n",
       "      <td>Point Baker</td>\n",
       "      <td>AK</td>\n",
       "      <td>Prince of Wales-Hyder</td>\n",
       "      <td>99927</td>\n",
       "      <td>56.25100</td>\n",
       "      <td>-133.37571</td>\n",
       "      <td>38</td>\n",
       "      <td>Urban</td>\n",
       "      <td>America/Sitka</td>\n",
       "      <td>Environmental health practitioner</td>\n",
       "      <td>NaN</td>\n",
       "      <td>68.0</td>\n",
       "      <td>Master's Degree</td>\n",
       "      <td>Part Time</td>\n",
       "      <td>28561.99</td>\n",
       "      <td>Widowed</td>\n",
       "      <td>Male</td>\n",
       "      <td>No</td>\n",
       "      <td>6.972566</td>\n",
       "      <td>10</td>\n",
       "      <td>0</td>\n",
       "      <td>1</td>\n",
       "      <td>No</td>\n",
       "      <td>One year</td>\n",
       "      <td>Yes</td>\n",
       "      <td>Yes</td>\n",
       "      <td>Fiber Optic</td>\n",
       "      <td>Yes</td>\n",
       "      <td>No</td>\n",
       "      <td>Yes</td>\n",
       "      <td>Yes</td>\n",
       "      <td>No</td>\n",
       "      <td>No</td>\n",
       "      <td>No</td>\n",
       "      <td>Yes</td>\n",
       "      <td>Yes</td>\n",
       "      <td>Credit Card (automatic)</td>\n",
       "      <td>6.795513</td>\n",
       "      <td>171.449762</td>\n",
       "      <td>904.536110</td>\n",
       "      <td>5</td>\n",
       "      <td>5</td>\n",
       "      <td>5</td>\n",
       "      <td>3</td>\n",
       "      <td>4</td>\n",
       "      <td>4</td>\n",
       "      <td>3</td>\n",
       "      <td>4</td>\n",
       "    </tr>\n",
       "    <tr>\n",
       "      <th>2</th>\n",
       "      <td>2</td>\n",
       "      <td>S120509</td>\n",
       "      <td>fb76459f-c047-4a9d-8af9-e0f7d4ac2524</td>\n",
       "      <td>West Branch</td>\n",
       "      <td>MI</td>\n",
       "      <td>Ogemaw</td>\n",
       "      <td>48661</td>\n",
       "      <td>44.32893</td>\n",
       "      <td>-84.24080</td>\n",
       "      <td>10446</td>\n",
       "      <td>Urban</td>\n",
       "      <td>America/Detroit</td>\n",
       "      <td>Programmer, multimedia</td>\n",
       "      <td>1.0</td>\n",
       "      <td>27.0</td>\n",
       "      <td>Regular High School Diploma</td>\n",
       "      <td>Retired</td>\n",
       "      <td>21704.77</td>\n",
       "      <td>Married</td>\n",
       "      <td>Female</td>\n",
       "      <td>Yes</td>\n",
       "      <td>12.014541</td>\n",
       "      <td>12</td>\n",
       "      <td>0</td>\n",
       "      <td>1</td>\n",
       "      <td>Yes</td>\n",
       "      <td>Month-to-month</td>\n",
       "      <td>No</td>\n",
       "      <td>Yes</td>\n",
       "      <td>Fiber Optic</td>\n",
       "      <td>Yes</td>\n",
       "      <td>Yes</td>\n",
       "      <td>Yes</td>\n",
       "      <td>No</td>\n",
       "      <td>No</td>\n",
       "      <td>No</td>\n",
       "      <td>Yes</td>\n",
       "      <td>Yes</td>\n",
       "      <td>Yes</td>\n",
       "      <td>Bank Transfer(automatic)</td>\n",
       "      <td>1.156681</td>\n",
       "      <td>242.948015</td>\n",
       "      <td>800.982766</td>\n",
       "      <td>3</td>\n",
       "      <td>4</td>\n",
       "      <td>3</td>\n",
       "      <td>3</td>\n",
       "      <td>4</td>\n",
       "      <td>3</td>\n",
       "      <td>4</td>\n",
       "      <td>4</td>\n",
       "    </tr>\n",
       "    <tr>\n",
       "      <th>3</th>\n",
       "      <td>3</td>\n",
       "      <td>K191035</td>\n",
       "      <td>344d114c-3736-4be5-98f7-c72c281e2d35</td>\n",
       "      <td>Yamhill</td>\n",
       "      <td>OR</td>\n",
       "      <td>Yamhill</td>\n",
       "      <td>97148</td>\n",
       "      <td>45.35589</td>\n",
       "      <td>-123.24657</td>\n",
       "      <td>3735</td>\n",
       "      <td>Urban</td>\n",
       "      <td>America/Los_Angeles</td>\n",
       "      <td>Chief Financial Officer</td>\n",
       "      <td>4.0</td>\n",
       "      <td>50.0</td>\n",
       "      <td>Regular High School Diploma</td>\n",
       "      <td>Student</td>\n",
       "      <td>NaN</td>\n",
       "      <td>Widowed</td>\n",
       "      <td>Female</td>\n",
       "      <td>No</td>\n",
       "      <td>10.245616</td>\n",
       "      <td>9</td>\n",
       "      <td>0</td>\n",
       "      <td>1</td>\n",
       "      <td>Yes</td>\n",
       "      <td>Two Year</td>\n",
       "      <td>Yes</td>\n",
       "      <td>No</td>\n",
       "      <td>DSL</td>\n",
       "      <td>Yes</td>\n",
       "      <td>Yes</td>\n",
       "      <td>No</td>\n",
       "      <td>No</td>\n",
       "      <td>No</td>\n",
       "      <td>No</td>\n",
       "      <td>No</td>\n",
       "      <td>Yes</td>\n",
       "      <td>Yes</td>\n",
       "      <td>Credit Card (automatic)</td>\n",
       "      <td>15.754144</td>\n",
       "      <td>159.440398</td>\n",
       "      <td>2054.706961</td>\n",
       "      <td>4</td>\n",
       "      <td>4</td>\n",
       "      <td>2</td>\n",
       "      <td>4</td>\n",
       "      <td>4</td>\n",
       "      <td>3</td>\n",
       "      <td>3</td>\n",
       "      <td>3</td>\n",
       "    </tr>\n",
       "    <tr>\n",
       "      <th>4</th>\n",
       "      <td>4</td>\n",
       "      <td>D90850</td>\n",
       "      <td>abfa2b40-2d43-4994-b15a-989b8c79e311</td>\n",
       "      <td>Del Mar</td>\n",
       "      <td>CA</td>\n",
       "      <td>San Diego</td>\n",
       "      <td>92014</td>\n",
       "      <td>32.96687</td>\n",
       "      <td>-117.24798</td>\n",
       "      <td>13863</td>\n",
       "      <td>Suburban</td>\n",
       "      <td>America/Los_Angeles</td>\n",
       "      <td>Solicitor</td>\n",
       "      <td>1.0</td>\n",
       "      <td>48.0</td>\n",
       "      <td>Doctorate Degree</td>\n",
       "      <td>Retired</td>\n",
       "      <td>18925.23</td>\n",
       "      <td>Married</td>\n",
       "      <td>Male</td>\n",
       "      <td>No</td>\n",
       "      <td>15.206193</td>\n",
       "      <td>15</td>\n",
       "      <td>2</td>\n",
       "      <td>0</td>\n",
       "      <td>Yes</td>\n",
       "      <td>Two Year</td>\n",
       "      <td>No</td>\n",
       "      <td>No</td>\n",
       "      <td>DSL</td>\n",
       "      <td>Yes</td>\n",
       "      <td>No</td>\n",
       "      <td>Yes</td>\n",
       "      <td>No</td>\n",
       "      <td>No</td>\n",
       "      <td>No</td>\n",
       "      <td>Yes</td>\n",
       "      <td>No</td>\n",
       "      <td>Yes</td>\n",
       "      <td>Mailed Check</td>\n",
       "      <td>17.087227</td>\n",
       "      <td>120.249493</td>\n",
       "      <td>2164.579412</td>\n",
       "      <td>4</td>\n",
       "      <td>4</td>\n",
       "      <td>4</td>\n",
       "      <td>2</td>\n",
       "      <td>5</td>\n",
       "      <td>4</td>\n",
       "      <td>3</td>\n",
       "      <td>3</td>\n",
       "    </tr>\n",
       "    <tr>\n",
       "      <th>5</th>\n",
       "      <td>5</td>\n",
       "      <td>K662701</td>\n",
       "      <td>68a861fd-0d20-4e51-a587-8a90407ee574</td>\n",
       "      <td>Needville</td>\n",
       "      <td>TX</td>\n",
       "      <td>Fort Bend</td>\n",
       "      <td>77461</td>\n",
       "      <td>29.38012</td>\n",
       "      <td>-95.80673</td>\n",
       "      <td>11352</td>\n",
       "      <td>Suburban</td>\n",
       "      <td>America/Chicago</td>\n",
       "      <td>Medical illustrator</td>\n",
       "      <td>0.0</td>\n",
       "      <td>83.0</td>\n",
       "      <td>Master's Degree</td>\n",
       "      <td>Student</td>\n",
       "      <td>40074.19</td>\n",
       "      <td>Separated</td>\n",
       "      <td>Male</td>\n",
       "      <td>Yes</td>\n",
       "      <td>8.960316</td>\n",
       "      <td>16</td>\n",
       "      <td>2</td>\n",
       "      <td>1</td>\n",
       "      <td>No</td>\n",
       "      <td>Month-to-month</td>\n",
       "      <td>Yes</td>\n",
       "      <td>No</td>\n",
       "      <td>Fiber Optic</td>\n",
       "      <td>No</td>\n",
       "      <td>No</td>\n",
       "      <td>No</td>\n",
       "      <td>No</td>\n",
       "      <td>No</td>\n",
       "      <td>Yes</td>\n",
       "      <td>Yes</td>\n",
       "      <td>No</td>\n",
       "      <td>No</td>\n",
       "      <td>Mailed Check</td>\n",
       "      <td>1.670972</td>\n",
       "      <td>150.761216</td>\n",
       "      <td>271.493436</td>\n",
       "      <td>4</td>\n",
       "      <td>4</td>\n",
       "      <td>4</td>\n",
       "      <td>3</td>\n",
       "      <td>4</td>\n",
       "      <td>4</td>\n",
       "      <td>4</td>\n",
       "      <td>5</td>\n",
       "    </tr>\n",
       "  </tbody>\n",
       "</table>\n",
       "</div>"
      ],
      "text/plain": [
       "   CaseOrder Customer_id                           Interaction         City  \\\n",
       "1          1     K409198  aa90260b-4141-4a24-8e36-b04ce1f4f77b  Point Baker   \n",
       "2          2     S120509  fb76459f-c047-4a9d-8af9-e0f7d4ac2524  West Branch   \n",
       "3          3     K191035  344d114c-3736-4be5-98f7-c72c281e2d35      Yamhill   \n",
       "4          4      D90850  abfa2b40-2d43-4994-b15a-989b8c79e311      Del Mar   \n",
       "5          5     K662701  68a861fd-0d20-4e51-a587-8a90407ee574    Needville   \n",
       "\n",
       "  State                 County    Zip       Lat        Lng  Population  \\\n",
       "1    AK  Prince of Wales-Hyder  99927  56.25100 -133.37571          38   \n",
       "2    MI                 Ogemaw  48661  44.32893  -84.24080       10446   \n",
       "3    OR                Yamhill  97148  45.35589 -123.24657        3735   \n",
       "4    CA              San Diego  92014  32.96687 -117.24798       13863   \n",
       "5    TX              Fort Bend  77461  29.38012  -95.80673       11352   \n",
       "\n",
       "       Area             Timezone                                Job  Children  \\\n",
       "1     Urban        America/Sitka  Environmental health practitioner       NaN   \n",
       "2     Urban      America/Detroit             Programmer, multimedia       1.0   \n",
       "3     Urban  America/Los_Angeles            Chief Financial Officer       4.0   \n",
       "4  Suburban  America/Los_Angeles                          Solicitor       1.0   \n",
       "5  Suburban      America/Chicago                Medical illustrator       0.0   \n",
       "\n",
       "    Age                    Education Employment    Income    Marital  Gender  \\\n",
       "1  68.0              Master's Degree  Part Time  28561.99    Widowed    Male   \n",
       "2  27.0  Regular High School Diploma    Retired  21704.77    Married  Female   \n",
       "3  50.0  Regular High School Diploma    Student       NaN    Widowed  Female   \n",
       "4  48.0             Doctorate Degree    Retired  18925.23    Married    Male   \n",
       "5  83.0              Master's Degree    Student  40074.19  Separated    Male   \n",
       "\n",
       "  Churn  Outage_sec_perweek  Email  Contacts  Yearly_equip_failure Techie  \\\n",
       "1    No            6.972566     10         0                     1     No   \n",
       "2   Yes           12.014541     12         0                     1    Yes   \n",
       "3    No           10.245616      9         0                     1    Yes   \n",
       "4    No           15.206193     15         2                     0    Yes   \n",
       "5   Yes            8.960316     16         2                     1     No   \n",
       "\n",
       "         Contract Port_modem Tablet InternetService Phone Multiple  \\\n",
       "1        One year        Yes    Yes     Fiber Optic   Yes       No   \n",
       "2  Month-to-month         No    Yes     Fiber Optic   Yes      Yes   \n",
       "3        Two Year        Yes     No             DSL   Yes      Yes   \n",
       "4        Two Year         No     No             DSL   Yes       No   \n",
       "5  Month-to-month        Yes     No     Fiber Optic    No       No   \n",
       "\n",
       "  OnlineSecurity OnlineBackup DeviceProtection TechSupport StreamingTV  \\\n",
       "1            Yes          Yes               No          No          No   \n",
       "2            Yes           No               No          No         Yes   \n",
       "3             No           No               No          No          No   \n",
       "4            Yes           No               No          No         Yes   \n",
       "5             No           No               No         Yes         Yes   \n",
       "\n",
       "  StreamingMovies PaperlessBilling             PaymentMethod     Tenure  \\\n",
       "1             Yes              Yes   Credit Card (automatic)   6.795513   \n",
       "2             Yes              Yes  Bank Transfer(automatic)   1.156681   \n",
       "3             Yes              Yes   Credit Card (automatic)  15.754144   \n",
       "4              No              Yes              Mailed Check  17.087227   \n",
       "5              No               No              Mailed Check   1.670972   \n",
       "\n",
       "   MonthlyCharge  Bandwidth_GB_Year  item1  item2  item3  item4  item5  item6  \\\n",
       "1     171.449762         904.536110      5      5      5      3      4      4   \n",
       "2     242.948015         800.982766      3      4      3      3      4      3   \n",
       "3     159.440398        2054.706961      4      4      2      4      4      3   \n",
       "4     120.249493        2164.579412      4      4      4      2      5      4   \n",
       "5     150.761216         271.493436      4      4      4      3      4      4   \n",
       "\n",
       "   item7  item8  \n",
       "1      3      4  \n",
       "2      4      4  \n",
       "3      3      3  \n",
       "4      3      3  \n",
       "5      4      5  "
      ]
     },
     "execution_count": 66,
     "metadata": {},
     "output_type": "execute_result"
    }
   ],
   "source": [
    "# Quick view of the data-set\n",
    "df.head()"
   ]
  },
  {
   "cell_type": "code",
   "execution_count": 67,
   "id": "957932aa",
   "metadata": {},
   "outputs": [],
   "source": [
    "# Add names to the customer feedback columns\n",
    "df = df.rename(columns=({ 'item1': 'Timely response', 'item2':'Timely fixes', 'item3':'Timely replacements', \n",
    "                         'item4':'Reliability', 'item5':'Options', 'item6':'Respectful response',\n",
    "                         'item7':'Courteous exchange', 'item8':'Evidence of active listening'}))"
   ]
  },
  {
   "cell_type": "code",
   "execution_count": 68,
   "id": "82ef4929",
   "metadata": {},
   "outputs": [],
   "source": [
    "# Create PCA analysis data-set with feedback response\n",
    "customer_data = df[['Timely response', 'Timely fixes', 'Timely replacements', 'Reliability','Options','Respectful response',\n",
    "                         'Courteous exchange','Evidence of active listening']]"
   ]
  },
  {
   "cell_type": "code",
   "execution_count": 69,
   "id": "244fb469",
   "metadata": {},
   "outputs": [],
   "source": [
    "# Normalize the data frame\n",
    "customer_data_norm = (customer_data-customer_data.mean())/customer_data.std()"
   ]
  },
  {
   "cell_type": "code",
   "execution_count": 70,
   "id": "796c81da",
   "metadata": {},
   "outputs": [],
   "source": [
    "# Component extraction\n",
    "pca= PCA(n_components=customer_data.shape[1])"
   ]
  },
  {
   "cell_type": "code",
   "execution_count": 72,
   "id": "f1b8ec7d",
   "metadata": {},
   "outputs": [
    {
     "data": {
      "text/plain": [
       "PCA(n_components=8)"
      ]
     },
     "execution_count": 72,
     "metadata": {},
     "output_type": "execute_result"
    }
   ],
   "source": [
    "# PCA fitting\n",
    "pca.fit(customer_data_norm)"
   ]
  },
  {
   "cell_type": "code",
   "execution_count": 73,
   "id": "269410af",
   "metadata": {},
   "outputs": [],
   "source": [
    "# PCA transform and normalization\n",
    "customer_pca = pd.DataFrame(pca.transform(customer_data_norm))"
   ]
  },
  {
   "cell_type": "code",
   "execution_count": 74,
   "id": "609d4232",
   "metadata": {},
   "outputs": [],
   "source": [
    "# Principle Component for the Scree plot\n",
    "columns = ['PC1','PC2','PC3','PC4','PC5','PC6','PC7','PC8']"
   ]
  },
  {
   "cell_type": "code",
   "execution_count": 75,
   "id": "7e68206b",
   "metadata": {},
   "outputs": [
    {
     "data": {
      "image/png": "[encoded data removed]",
      "text/plain": [
       "<Figure size 2160x792 with 1 Axes>"
      ]
     },
     "metadata": {},
     "output_type": "display_data"
    }
   ],
   "source": [
    "# Scree plot showing the PCs\n",
    "# Below show the 60 percent of the variance is explained by 2 component \n",
    "plt.plot(pca.explained_variance_ratio_)\n",
    "plt.xlabel('Principal Components')\n",
    "plt.ylabel('Explained Variance')\n",
    "plt.title('Explained Variance (%)',  fontsize=30)\n",
    "plt.show()"
   ]
  },
  {
   "cell_type": "code",
   "execution_count": 76,
   "id": "845d1c3c",
   "metadata": {},
   "outputs": [],
   "source": [
    "# Eigenvalues\n",
    "cov_matrix = np.dot(customer_data_norm.T, customer_data_norm) / customer_data.shape[0]\n",
    "EigenV = [np.dot(eigenvector.T, np.dot(cov_matrix, eigenvector)) for eigenvector in pca.components_]"
   ]
  },
  {
   "cell_type": "code",
   "execution_count": 77,
   "id": "4d2a7e10",
   "metadata": {},
   "outputs": [
    {
     "data": {
      "image/png": "[encoded data removed]",
      "text/plain": [
       "<Figure size 2160x792 with 1 Axes>"
      ]
     },
     "metadata": {},
     "output_type": "display_data"
    }
   ],
   "source": [
    "# Scree plot show Eigen Values\n",
    "# PC0 and PC1 has Eigenvalues greated than 1.\n",
    "plt.plot(EigenV)\n",
    "plt.xlabel('Pricipal Components')\n",
    "plt.ylabel('Eigen Values')\n",
    "plt.title('Eigen Values',  fontsize=30)\n",
    "plt.show()"
   ]
  },
  {
   "cell_type": "code",
   "execution_count": 78,
   "id": "7ea709f3",
   "metadata": {},
   "outputs": [
    {
     "data": {
      "text/html": [
       "<div>\n",
       "<style scoped>\n",
       "    .dataframe tbody tr th:only-of-type {\n",
       "        vertical-align: middle;\n",
       "    }\n",
       "\n",
       "    .dataframe tbody tr th {\n",
       "        vertical-align: top;\n",
       "    }\n",
       "\n",
       "    .dataframe thead th {\n",
       "        text-align: right;\n",
       "    }\n",
       "</style>\n",
       "<table border=\"1\" class=\"dataframe\">\n",
       "  <thead>\n",
       "    <tr style=\"text-align: right;\">\n",
       "      <th></th>\n",
       "      <th>PC1</th>\n",
       "      <th>PC2</th>\n",
       "      <th>PC3</th>\n",
       "      <th>PC4</th>\n",
       "      <th>PC5</th>\n",
       "      <th>PC6</th>\n",
       "      <th>PC7</th>\n",
       "      <th>PC8</th>\n",
       "    </tr>\n",
       "  </thead>\n",
       "  <tbody>\n",
       "    <tr>\n",
       "      <th>Timely response</th>\n",
       "      <td>0.459030</td>\n",
       "      <td>0.282717</td>\n",
       "      <td>-0.069221</td>\n",
       "      <td>0.120013</td>\n",
       "      <td>-0.044752</td>\n",
       "      <td>0.025032</td>\n",
       "      <td>-0.241688</td>\n",
       "      <td>0.793174</td>\n",
       "    </tr>\n",
       "    <tr>\n",
       "      <th>Timely fixes</th>\n",
       "      <td>0.434342</td>\n",
       "      <td>0.285321</td>\n",
       "      <td>-0.106259</td>\n",
       "      <td>0.170235</td>\n",
       "      <td>-0.064900</td>\n",
       "      <td>0.074672</td>\n",
       "      <td>-0.591586</td>\n",
       "      <td>-0.574375</td>\n",
       "    </tr>\n",
       "    <tr>\n",
       "      <th>Timely replacements</th>\n",
       "      <td>0.400775</td>\n",
       "      <td>0.282950</td>\n",
       "      <td>-0.173885</td>\n",
       "      <td>0.254689</td>\n",
       "      <td>-0.148134</td>\n",
       "      <td>-0.396761</td>\n",
       "      <td>0.673403</td>\n",
       "      <td>-0.177149</td>\n",
       "    </tr>\n",
       "    <tr>\n",
       "      <th>Reliability</th>\n",
       "      <td>0.145686</td>\n",
       "      <td>-0.569898</td>\n",
       "      <td>-0.171525</td>\n",
       "      <td>0.482754</td>\n",
       "      <td>-0.444692</td>\n",
       "      <td>0.431115</td>\n",
       "      <td>0.086961</td>\n",
       "      <td>0.018610</td>\n",
       "    </tr>\n",
       "    <tr>\n",
       "      <th>Options</th>\n",
       "      <td>-0.175385</td>\n",
       "      <td>0.591292</td>\n",
       "      <td>0.135315</td>\n",
       "      <td>-0.060906</td>\n",
       "      <td>-0.211030</td>\n",
       "      <td>0.693537</td>\n",
       "      <td>0.265272</td>\n",
       "      <td>-0.041198</td>\n",
       "    </tr>\n",
       "    <tr>\n",
       "      <th>Respectful response</th>\n",
       "      <td>0.405197</td>\n",
       "      <td>-0.183897</td>\n",
       "      <td>-0.061988</td>\n",
       "      <td>-0.063712</td>\n",
       "      <td>0.757170</td>\n",
       "      <td>0.403694</td>\n",
       "      <td>0.231751</td>\n",
       "      <td>-0.064123</td>\n",
       "    </tr>\n",
       "    <tr>\n",
       "      <th>Courteous exchange</th>\n",
       "      <td>0.358413</td>\n",
       "      <td>-0.181067</td>\n",
       "      <td>-0.184917</td>\n",
       "      <td>-0.806749</td>\n",
       "      <td>-0.378391</td>\n",
       "      <td>0.067449</td>\n",
       "      <td>0.066043</td>\n",
       "      <td>-0.040309</td>\n",
       "    </tr>\n",
       "    <tr>\n",
       "      <th>Evidence of active listening</th>\n",
       "      <td>0.308851</td>\n",
       "      <td>-0.132624</td>\n",
       "      <td>0.931619</td>\n",
       "      <td>0.009229</td>\n",
       "      <td>-0.114326</td>\n",
       "      <td>-0.044789</td>\n",
       "      <td>0.046267</td>\n",
       "      <td>-0.042500</td>\n",
       "    </tr>\n",
       "  </tbody>\n",
       "</table>\n",
       "</div>"
      ],
      "text/plain": [
       "                                   PC1       PC2       PC3       PC4  \\\n",
       "Timely response               0.459030  0.282717 -0.069221  0.120013   \n",
       "Timely fixes                  0.434342  0.285321 -0.106259  0.170235   \n",
       "Timely replacements           0.400775  0.282950 -0.173885  0.254689   \n",
       "Reliability                   0.145686 -0.569898 -0.171525  0.482754   \n",
       "Options                      -0.175385  0.591292  0.135315 -0.060906   \n",
       "Respectful response           0.405197 -0.183897 -0.061988 -0.063712   \n",
       "Courteous exchange            0.358413 -0.181067 -0.184917 -0.806749   \n",
       "Evidence of active listening  0.308851 -0.132624  0.931619  0.009229   \n",
       "\n",
       "                                   PC5       PC6       PC7       PC8  \n",
       "Timely response              -0.044752  0.025032 -0.241688  0.793174  \n",
       "Timely fixes                 -0.064900  0.074672 -0.591586 -0.574375  \n",
       "Timely replacements          -0.148134 -0.396761  0.673403 -0.177149  \n",
       "Reliability                  -0.444692  0.431115  0.086961  0.018610  \n",
       "Options                      -0.211030  0.693537  0.265272 -0.041198  \n",
       "Respectful response           0.757170  0.403694  0.231751 -0.064123  \n",
       "Courteous exchange           -0.378391  0.067449  0.066043 -0.040309  \n",
       "Evidence of active listening -0.114326 -0.044789  0.046267 -0.042500  "
      ]
     },
     "execution_count": 78,
     "metadata": {},
     "output_type": "execute_result"
    }
   ],
   "source": [
    "# Loading and identifying the PC from the Customer dataframe\n",
    "loading = pd.DataFrame(pca.components_.T, columns = ['PC1','PC2','PC3','PC4','PC5','PC6','PC7','PC8'], index=customer_data.columns)\n",
    "loading"
   ]
  },
  {
   "cell_type": "code",
   "execution_count": 79,
   "id": "8b5d8f4f",
   "metadata": {},
   "outputs": [
    {
     "data": {
      "text/plain": [
       "Timely response        0.459030\n",
       "Timely fixes           0.434342\n",
       "Timely replacements    0.400775\n",
       "Respectful response    0.405197\n",
       "Name: PC1, dtype: float64"
      ]
     },
     "execution_count": 79,
     "metadata": {},
     "output_type": "execute_result"
    }
   ],
   "source": [
    "# Isolate and show values of the PC1\n",
    "load = loading['PC1'] > .4\n",
    "loading[load]['PC1']"
   ]
  },
  {
   "cell_type": "markdown",
   "id": "4a2272a5",
   "metadata": {},
   "source": [
    "### Part III: Data Cleaning\n",
    "\n",
    "###### D.  Summarize the data-cleaning process by doing the following:\n",
    "D1. I was able to find 8 columns with anomalies. Children, Phone, Techie and TechSupport were categorical, and their ‘null’ values were replaced with ‘No’. I used the 'Reexpression of Categorial column' to create the Education column. The limitations are as follow:\n",
    "\n",
    "D2. Categorical data imputation limitation can distort the data if the assumptions are not confirmed.\n",
    "* Children: The customer might have chosen not to tell the actual number of children they have due to privacy concerns.\n",
    "* Phone: Customer might have chosen not to list their phone number due to privacy concerns.\n",
    "* Techie: This could have been left out as a human error.\n",
    "* TechSupport: This could a human error, someone might not have entered appropriate values assuming 'No' and '' are the same.\n",
    "\n",
    "D2a. Numerical data\n",
    "The continuous type columns (Age, Income, Tenure, Bandwidth_GB_Year) data were replaced using python’s median functions because these are continuous and the data was either skewed to left or Bimodal. I chose this because it is simple, easy to apply method and does not reduce the sample size. on the limitation side, it is possible to distort data / distribution of the data. The rest of the columns were not part of the process as they did not have any null values.\n",
    "\n",
    "D3. All the missing categorical values were imputed to ‘No’ and numerical values were imputed using median central tendency. Age and Tenure were left alone as they did not have any outliers.\n",
    "\n",
    "D4. Code is available above and in the Panopto recording\n",
    "\n",
    "D5. Attached file ‘Cleaned_Data_set.csv’) \n",
    "\n",
    "D6 & D7. The data cleaning process assumes that replacing categorical null values with ‘No’ is the right approach however this can lead to inflated data that will lean toward replaced values and can lead to inaccurate decision making. Similarly, using statical central tendencies is an appropriate approach but can lead to inflated data and imbalanced decision making. Imputing data values using the above steps can give us a picture but cannot replace true values which were missed due to human error/system errors."
   ]
  },
  {
   "cell_type": "markdown",
   "id": "c5bce2d9",
   "metadata": {},
   "source": [
    "###### E.  Apply principal component analysis (PCA) to identify the significant features of the data set by doing the following:\n",
    "1.  List the principal components in the data set.\n",
    "* Timely response\n",
    "* Timely fixes\n",
    "* Timely replacements\n",
    "* Respectful response\n",
    "2.  Describe how you identified the principal components of the data set.\n",
    "* PC0 and PC1 should be kept as they have Eigenvalues greater than 1.\n",
    "3.  Describe how the organization can benefit from the results of the PCA\n",
    "* The four identified scores should be reviewed carefully to understand customer's feedback. This will help the company to keep their customer for a longer time hence increasing profits.\n",
    " "
   ]
  },
  {
   "cell_type": "markdown",
   "id": "83c7b06c",
   "metadata": {},
   "source": [
    "### Part IV. Supporting Documents\n",
    "\n",
    "###### F.  Provide a Panopto recording that demonstrates the warning- and error-free functionality of the code used to support the discovery of anomalies and the data cleaning process and summarizes the programming environment.\n",
    " \n",
    "Note: For instructions on how to access and use Panopto, use the \"Panopto How-To Videos\" web link provided below. To access Panopto's website, navigate to the web link titled \"Panopto Access\", and then choose to log in using the “WGU” option. If prompted, log in using your WGU student portal credentials, and then it will forward you to Panopto’s website.\n",
    " \n",
    "To submit your recording, upload it to the Panopto drop box titled “Data Cleaning – NUM2 \\ D206” Once the recording has been uploaded and processed in Panopto's system, retrieve the URL of the recording from Panopto and copy and paste it into the Links option. Upload the remaining task requirements using the Attachments option."
   ]
  },
  {
   "cell_type": "markdown",
   "id": "a6ab4be7",
   "metadata": {},
   "source": [
    "###### G.  Reference the web sources used to acquire segments of third-party code to support the application. Be sure the web sources are reliable."
   ]
  },
  {
   "cell_type": "markdown",
   "id": "cd88621d",
   "metadata": {},
   "source": [
    "```{bibliography}\n",
    "Pandas. (2021). Pandas DataFrames. https://pandas.pydata.org/pandas-docs/stable/reference/api/pandas.DataFrame.dtypes.html\n",
    "\n",
    "Get started with references. (2021). Jupyterbook. https://jupyterbook.org/tutorials/references.html#tutorials-references\n",
    "\n",
    "Marques, A. M. (2020, March 11). How to show all columns / rows of a Pandas Dataframe? Towards Data Science. https://towardsdatascience.com/how-to-show-all-columns-rows-of-a-pandas-dataframe-c49d4507fcf\n",
    "```"
   ]
  },
  {
   "cell_type": "markdown",
   "id": "686bd140",
   "metadata": {},
   "source": [
    "###### H.  Acknowledge sources, using in-text citations and references, for content that is quoted, paraphrased, or summarized.\n",
    "```{bibliography}\n",
    "Chantal D. Larose, & Daniel T. Larose. (2019). Data Science Using Python and R. Wiley.\n",
    "\n",
    "\n",
    "```"
   ]
  }
 ],
 "metadata": {
  "kernelspec": {
   "display_name": "Python 3",
   "language": "python",
   "name": "python3"
  },
  "language_info": {
   "codemirror_mode": {
    "name": "ipython",
    "version": 3
   },
   "file_extension": ".py",
   "mimetype": "text/x-python",
   "name": "python",
   "nbconvert_exporter": "python",
   "pygments_lexer": "ipython3",
   "version": "3.8.10"
  },
  "widgets": {
   "application/vnd.jupyter.widget-state+json": {
    "state": {},
    "version_major": 2,
    "version_minor": 0
   }
  }
 },
 "nbformat": 4,
 "nbformat_minor": 5
}
